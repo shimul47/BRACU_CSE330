{
 "cells": [
  {
   "cell_type": "markdown",
   "metadata": {
    "id": "onlr4FOK2vlI"
   },
   "source": [
    "#Introduction to Python"
   ]
  },
  {
   "cell_type": "markdown",
   "metadata": {
    "id": "HrRcQURW3PZ3"
   },
   "source": [
    "# Variables and Data Types\n",
    "* Variables are dynammically typed. No need to write data type while declaring a variable."
   ]
  },
  {
   "cell_type": "code",
   "execution_count": 2,
   "metadata": {
    "executionInfo": {
     "elapsed": 1119,
     "status": "ok",
     "timestamp": 1739858939689,
     "user": {
      "displayName": "Anika Priodorshinee Mrittika",
      "userId": "18201477252200877005"
     },
     "user_tz": -360
    },
    "id": "cKhS2uyKQLfE"
   },
   "outputs": [],
   "source": [
    "#Declaring variables\n",
    "\n",
    "a = 123           #integer\n",
    "b = 1.23          #float\n",
    "c = 1 + 2j        #complex\n",
    "d = \"Hello World\" #string\n",
    "e = True          #boolean true\n",
    "f =  False        #boolean false"
   ]
  },
  {
   "cell_type": "code",
   "execution_count": 3,
   "metadata": {
    "colab": {
     "base_uri": "https://localhost:8080/"
    },
    "executionInfo": {
     "elapsed": 24,
     "status": "ok",
     "timestamp": 1739858940990,
     "user": {
      "displayName": "Anika Priodorshinee Mrittika",
      "userId": "18201477252200877005"
     },
     "user_tz": -360
    },
    "id": "Jdj-qQJd4mMr",
    "outputId": "38975317-25cc-4fe2-fb40-55f8a293eb6a"
   },
   "outputs": [
    {
     "name": "stdout",
     "output_type": "stream",
     "text": [
      "123\n",
      "1.23\n",
      "(1+2j)\n",
      "Hello World\n",
      "True\n"
     ]
    }
   ],
   "source": [
    "#Printing the variables\n",
    "\n",
    "print (a)\n",
    "print (b)\n",
    "print (c)         #Bracket for complex number\n",
    "print (d)\n",
    "print (e)"
   ]
  },
  {
   "cell_type": "code",
   "execution_count": 4,
   "metadata": {
    "colab": {
     "base_uri": "https://localhost:8080/"
    },
    "executionInfo": {
     "elapsed": 23,
     "status": "ok",
     "timestamp": 1739858940990,
     "user": {
      "displayName": "Anika Priodorshinee Mrittika",
      "userId": "18201477252200877005"
     },
     "user_tz": -360
    },
    "id": "jV1nmQWM4zNZ",
    "outputId": "37b6ff82-ba74-4c4c-8917-a28360af0075"
   },
   "outputs": [
    {
     "data": {
      "text/plain": [
       "complex"
      ]
     },
     "execution_count": 4,
     "metadata": {},
     "output_type": "execute_result"
    }
   ],
   "source": [
    "#Checking types\n",
    "\n",
    "type(c)"
   ]
  },
  {
   "cell_type": "code",
   "execution_count": 5,
   "metadata": {
    "colab": {
     "base_uri": "https://localhost:8080/"
    },
    "executionInfo": {
     "elapsed": 22,
     "status": "ok",
     "timestamp": 1739858940990,
     "user": {
      "displayName": "Anika Priodorshinee Mrittika",
      "userId": "18201477252200877005"
     },
     "user_tz": -360
    },
    "id": "Ti7rIS1f5CBm",
    "outputId": "41c97416-07e2-4d98-b6df-c278ff52a024"
   },
   "outputs": [
    {
     "name": "stdout",
     "output_type": "stream",
     "text": [
      "7\n",
      "3\n",
      "10\n",
      "2.5\n",
      "2\n",
      "1\n",
      "16\n"
     ]
    }
   ],
   "source": [
    "#Basic arithmetic operations\n",
    "\n",
    "print (5 + 2)\n",
    "print (5 - 2)\n",
    "print (5 * 2)\n",
    "print (5 / 2)\n",
    "print(5//2)\n",
    "print (5 % 2)     #Mod operator. Returns remainder\n",
    "print (2 ** 4)    #Power"
   ]
  },
  {
   "cell_type": "code",
   "execution_count": 6,
   "metadata": {
    "colab": {
     "base_uri": "https://localhost:8080/"
    },
    "executionInfo": {
     "elapsed": 21,
     "status": "ok",
     "timestamp": 1739858940990,
     "user": {
      "displayName": "Anika Priodorshinee Mrittika",
      "userId": "18201477252200877005"
     },
     "user_tz": -360
    },
    "id": "cneCTF135XiG",
    "outputId": "7191eef3-c8f8-4652-ff5e-6a8e21fd0435"
   },
   "outputs": [
    {
     "name": "stdout",
     "output_type": "stream",
     "text": [
      "1.6666666666666667\n",
      "1\n"
     ]
    }
   ],
   "source": [
    "print (5 / 3)\n",
    "print (5 // 3)    #Returns only the Integer part"
   ]
  },
  {
   "cell_type": "code",
   "execution_count": 6,
   "metadata": {
    "colab": {
     "base_uri": "https://localhost:8080/"
    },
    "executionInfo": {
     "elapsed": 17,
     "status": "ok",
     "timestamp": 1739858940990,
     "user": {
      "displayName": "Anika Priodorshinee Mrittika",
      "userId": "18201477252200877005"
     },
     "user_tz": -360
    },
    "id": "D5Y4hPR16GaA",
    "outputId": "fbc59009-ffbd-4818-ddf6-66daff4cebb5"
   },
   "outputs": [
    {
     "name": "stdout",
     "output_type": "stream",
     "text": [
      "The current value of a is 123\n",
      "The current value of a is 123 and b is 1.23\n"
     ]
    }
   ],
   "source": [
    "print (\"The current value of a is\", a)            #Concatenated using comma\n",
    "print (\"The current value of a is\", a, \"and b is\", b)"
   ]
  },
  {
   "cell_type": "code",
   "execution_count": 7,
   "metadata": {
    "colab": {
     "base_uri": "https://localhost:8080/"
    },
    "executionInfo": {
     "elapsed": 16,
     "status": "ok",
     "timestamp": 1739858940990,
     "user": {
      "displayName": "Anika Priodorshinee Mrittika",
      "userId": "18201477252200877005"
     },
     "user_tz": -360
    },
    "id": "sWpFPILg6ahF",
    "outputId": "7b8b4735-cbaa-4a73-9619-1ec670bc25ab"
   },
   "outputs": [
    {
     "name": "stdout",
     "output_type": "stream",
     "text": [
      "The current value of a is 123\n",
      "The current value of a is...123\n"
     ]
    }
   ],
   "source": [
    "print (\"The current value of a is\", a)               #Default blank space\n",
    "print (\"The current value of a is\", a, sep = '...')  #Customize using separator"
   ]
  },
  {
   "cell_type": "code",
   "execution_count": 8,
   "metadata": {
    "colab": {
     "base_uri": "https://localhost:8080/"
    },
    "executionInfo": {
     "elapsed": 14,
     "status": "ok",
     "timestamp": 1739858940990,
     "user": {
      "displayName": "Anika Priodorshinee Mrittika",
      "userId": "18201477252200877005"
     },
     "user_tz": -360
    },
    "id": "7Sg0vHJ46cTL",
    "outputId": "966aa469-911d-4be3-f574-e8f5d145a51e"
   },
   "outputs": [
    {
     "name": "stdout",
     "output_type": "stream",
     "text": [
      "The current value of a is 123\n",
      "The current value of a is 123\n",
      "\n",
      "Hello\n"
     ]
    }
   ],
   "source": [
    "print (\"The current value of a is\", a)          #Auto newline added. If we don't need any newline, keep it blank\n",
    "print (\"The current value of a is\", a, end = \"\\n\\n\")\n",
    "print (\"Hello\")"
   ]
  },
  {
   "cell_type": "markdown",
   "metadata": {
    "id": "QJDInrmrMwhN"
   },
   "source": [
    "# String"
   ]
  },
  {
   "cell_type": "code",
   "execution_count": 9,
   "metadata": {
    "colab": {
     "base_uri": "https://localhost:8080/"
    },
    "executionInfo": {
     "elapsed": 11,
     "status": "ok",
     "timestamp": 1739858940990,
     "user": {
      "displayName": "Anika Priodorshinee Mrittika",
      "userId": "18201477252200877005"
     },
     "user_tz": -360
    },
    "id": "NF2li37XMzI9",
    "outputId": "8fea1438-8356-4a70-b262-6ac6ffdf3a38"
   },
   "outputs": [
    {
     "name": "stdout",
     "output_type": "stream",
     "text": [
      "Hi!My name is Mrittika\n"
     ]
    }
   ],
   "source": [
    "#String Concatenation\n",
    "x = \"Hi!\"\n",
    "y = \"My name is Mrittika\"\n",
    "z = x + y\n",
    "print (z)"
   ]
  },
  {
   "cell_type": "code",
   "execution_count": 10,
   "metadata": {
    "colab": {
     "base_uri": "https://localhost:8080/"
    },
    "executionInfo": {
     "elapsed": 10,
     "status": "ok",
     "timestamp": 1739858940990,
     "user": {
      "displayName": "Anika Priodorshinee Mrittika",
      "userId": "18201477252200877005"
     },
     "user_tz": -360
    },
    "id": "jYD89_CONM5H",
    "outputId": "7b887df6-f416-4b4e-f71a-3ba7793ca6a1"
   },
   "outputs": [
    {
     "name": "stdout",
     "output_type": "stream",
     "text": [
      "M\n",
      "m\n"
     ]
    }
   ],
   "source": [
    "#Accessing String with character position number. Space is also a character\n",
    "print (y[0])\n",
    "print (y[5])"
   ]
  },
  {
   "cell_type": "code",
   "execution_count": 11,
   "metadata": {
    "colab": {
     "base_uri": "https://localhost:8080/"
    },
    "executionInfo": {
     "elapsed": 9,
     "status": "ok",
     "timestamp": 1739858940990,
     "user": {
      "displayName": "Anika Priodorshinee Mrittika",
      "userId": "18201477252200877005"
     },
     "user_tz": -360
    },
    "id": "tewLjes0Nw84",
    "outputId": "7f52ef1e-8364-4464-fa3b-37400565026a"
   },
   "outputs": [
    {
     "name": "stdout",
     "output_type": "stream",
     "text": [
      "3\n"
     ]
    }
   ],
   "source": [
    "#Length of the String\n",
    "print (len(x))"
   ]
  },
  {
   "cell_type": "code",
   "execution_count": 12,
   "metadata": {
    "colab": {
     "base_uri": "https://localhost:8080/"
    },
    "executionInfo": {
     "elapsed": 9,
     "status": "ok",
     "timestamp": 1739858940990,
     "user": {
      "displayName": "Anika Priodorshinee Mrittika",
      "userId": "18201477252200877005"
     },
     "user_tz": -360
    },
    "id": "oQef5xCbN6SK",
    "outputId": "87e0e4a9-8fe2-4dd5-d868-28816eefa5cb"
   },
   "outputs": [
    {
     "name": "stdout",
     "output_type": "stream",
     "text": [
      "a\n",
      "a\n"
     ]
    }
   ],
   "source": [
    "#Acsessing Last Character\n",
    "print (y[len(y)-1])\n",
    "print(y[-1])"
   ]
  },
  {
   "cell_type": "code",
   "execution_count": 13,
   "metadata": {
    "colab": {
     "base_uri": "https://localhost:8080/"
    },
    "executionInfo": {
     "elapsed": 8,
     "status": "ok",
     "timestamp": 1739858940990,
     "user": {
      "displayName": "Anika Priodorshinee Mrittika",
      "userId": "18201477252200877005"
     },
     "user_tz": -360
    },
    "id": "5ubl1XfiOLPK",
    "outputId": "a0afc866-ae00-4741-b812-573881db0297"
   },
   "outputs": [
    {
     "name": "stdout",
     "output_type": "stream",
     "text": [
      "MY NAME IS MRITTIKA\n",
      "my name is mrittika\n",
      "My Name Is Mrittika\n"
     ]
    }
   ],
   "source": [
    "#Common String Methods\n",
    "s = \"My name is Mrittika\"\n",
    "\n",
    "print (y.upper())   #All uppercase\n",
    "print (y.lower())   #All lowercase\n",
    "print (y.title())   #Title case - Every word first letter uppercase"
   ]
  },
  {
   "cell_type": "code",
   "execution_count": 14,
   "metadata": {
    "colab": {
     "base_uri": "https://localhost:8080/"
    },
    "executionInfo": {
     "elapsed": 8,
     "status": "ok",
     "timestamp": 1739858940991,
     "user": {
      "displayName": "Anika Priodorshinee Mrittika",
      "userId": "18201477252200877005"
     },
     "user_tz": -360
    },
    "id": "8lQqJ1UtPa05",
    "outputId": "c88dd800-9809-4d04-b2cc-05232f9df9d6"
   },
   "outputs": [
    {
     "name": "stdout",
     "output_type": "stream",
     "text": [
      "My name is Mrittika\n",
      "My Name Is Mrittika\n"
     ]
    }
   ],
   "source": [
    "s = \"   My name is Mrittika   \"\n",
    "print (s.strip())   #Strips spaces from starting or ending positions\n",
    "print (s.strip().title())   #Combination of multiple methods - works sequentially"
   ]
  },
  {
   "cell_type": "code",
   "execution_count": 8,
   "metadata": {
    "colab": {
     "base_uri": "https://localhost:8080/"
    },
    "executionInfo": {
     "elapsed": 8,
     "status": "ok",
     "timestamp": 1739858940991,
     "user": {
      "displayName": "Anika Priodorshinee Mrittika",
      "userId": "18201477252200877005"
     },
     "user_tz": -360
    },
    "id": "gz-P4SUmPFO4",
    "outputId": "4dfb51ae-6799-4aac-9166-caa00a1a4540"
   },
   "outputs": [
    {
     "name": "stdout",
     "output_type": "stream",
     "text": [
      "8\n",
      "-1\n",
      "4\n"
     ]
    }
   ],
   "source": [
    "s = \"My name is Mrittika\"\n",
    "print (s.find(\"is\"))    #Returns the position of 1st letter of the intended word\n",
    "print (s.find(\"hello\")) #Not in the string\n",
    "print (s.find (\"a\"))    #Returns 1st appearence position of the intended letter"
   ]
  },
  {
   "cell_type": "code",
   "execution_count": 10,
   "metadata": {
    "colab": {
     "base_uri": "https://localhost:8080/"
    },
    "executionInfo": {
     "elapsed": 7,
     "status": "ok",
     "timestamp": 1739858940991,
     "user": {
      "displayName": "Anika Priodorshinee Mrittika",
      "userId": "18201477252200877005"
     },
     "user_tz": -360
    },
    "id": "NR1GxshDQStn",
    "outputId": "8ed820ce-b138-4433-cd2e-4c636d279c8e"
   },
   "outputs": [
    {
     "data": {
      "text/plain": [
       "True"
      ]
     },
     "execution_count": 10,
     "metadata": {},
     "output_type": "execute_result"
    }
   ],
   "source": [
    "#Membership Operator. Returns Boolean\n",
    "\"Mrittika\" in s"
   ]
  },
  {
   "cell_type": "code",
   "execution_count": 12,
   "metadata": {
    "colab": {
     "base_uri": "https://localhost:8080/"
    },
    "executionInfo": {
     "elapsed": 7,
     "status": "ok",
     "timestamp": 1739858940991,
     "user": {
      "displayName": "Anika Priodorshinee Mrittika",
      "userId": "18201477252200877005"
     },
     "user_tz": -360
    },
    "id": "W63Ut64LQdkD",
    "outputId": "c6dbd99b-8f5f-45b4-d11e-deb6aefafd59"
   },
   "outputs": [
    {
     "name": "stdout",
     "output_type": "stream",
     "text": [
      "My name is Mrittika\n"
     ]
    }
   ],
   "source": [
    "#Replace method\n",
    "m = \"My name is Anika\"\n",
    "m_new = m.replace(\"Anika\", \"Mrittika\")\n",
    "print (m_new)"
   ]
  },
  {
   "cell_type": "code",
   "execution_count": 18,
   "metadata": {
    "colab": {
     "base_uri": "https://localhost:8080/"
    },
    "executionInfo": {
     "elapsed": 6,
     "status": "ok",
     "timestamp": 1739858940991,
     "user": {
      "displayName": "Anika Priodorshinee Mrittika",
      "userId": "18201477252200877005"
     },
     "user_tz": -360
    },
    "id": "vnKBzTtoQjZH",
    "outputId": "d0b274b8-7091-479e-9871-acbd56e74175"
   },
   "outputs": [
    {
     "name": "stdout",
     "output_type": "stream",
     "text": [
      "I lov\n"
     ]
    }
   ],
   "source": [
    "#String Slicing\n",
    "s = \"I love watching football!\"\n",
    "\n",
    "#m[a:b] -> Return from index a up until index b (b not included)\n",
    "print (s[0:5])"
   ]
  },
  {
   "cell_type": "code",
   "execution_count": 70,
   "metadata": {
    "colab": {
     "base_uri": "https://localhost:8080/"
    },
    "executionInfo": {
     "elapsed": 368,
     "status": "ok",
     "timestamp": 1739859810002,
     "user": {
      "displayName": "Anika Priodorshinee Mrittika",
      "userId": "18201477252200877005"
     },
     "user_tz": -360
    },
    "id": "nAczcP8VQnYL",
    "outputId": "3962caaa-5c8c-430b-a4d8-96b3446f2267"
   },
   "outputs": [
    {
     "name": "stdout",
     "output_type": "stream",
     "text": [
      "I love\n",
      " watching football!\n"
     ]
    }
   ],
   "source": [
    "print (s[:6])\n",
    "print (s[6:])"
   ]
  },
  {
   "cell_type": "code",
   "execution_count": 20,
   "metadata": {
    "colab": {
     "base_uri": "https://localhost:8080/"
    },
    "executionInfo": {
     "elapsed": 5,
     "status": "ok",
     "timestamp": 1739858940991,
     "user": {
      "displayName": "Anika Priodorshinee Mrittika",
      "userId": "18201477252200877005"
     },
     "user_tz": -360
    },
    "id": "mxV_ZBLDQozT",
    "outputId": "c7a6dc0b-bb51-41d7-af86-8376eec2addf"
   },
   "outputs": [
    {
     "name": "stdout",
     "output_type": "stream",
     "text": [
      "all!\n"
     ]
    }
   ],
   "source": [
    "print (s[-4:])"
   ]
  },
  {
   "cell_type": "markdown",
   "metadata": {
    "id": "UYj0I-eaQrIv"
   },
   "source": [
    "# User Input"
   ]
  },
  {
   "cell_type": "code",
   "execution_count": 13,
   "metadata": {
    "colab": {
     "base_uri": "https://localhost:8080/"
    },
    "executionInfo": {
     "elapsed": 4875,
     "status": "ok",
     "timestamp": 1739858945862,
     "user": {
      "displayName": "Anika Priodorshinee Mrittika",
      "userId": "18201477252200877005"
     },
     "user_tz": -360
    },
    "id": "1vGSl_PbRtyP",
    "outputId": "721dc548-f0c5-4f72-b518-9e8cf9f9e206"
   },
   "outputs": [
    {
     "name": "stdout",
     "output_type": "stream",
     "text": [
      "Username is: fhgf\n"
     ]
    }
   ],
   "source": [
    "username = input(\"Enter username:\")\n",
    "print(\"Username is: \" + username)"
   ]
  },
  {
   "cell_type": "code",
   "execution_count": 14,
   "metadata": {
    "colab": {
     "base_uri": "https://localhost:8080/"
    },
    "executionInfo": {
     "elapsed": 9,
     "status": "ok",
     "timestamp": 1739858945863,
     "user": {
      "displayName": "Anika Priodorshinee Mrittika",
      "userId": "18201477252200877005"
     },
     "user_tz": -360
    },
    "id": "No7vRUhQ0H4Y",
    "outputId": "690aa2d4-d084-48b1-ff2d-0c0a51bb3d23"
   },
   "outputs": [
    {
     "name": "stdout",
     "output_type": "stream",
     "text": [
      "fhgffhgffhgf\n"
     ]
    }
   ],
   "source": [
    "print(username*3)"
   ]
  },
  {
   "cell_type": "code",
   "execution_count": 23,
   "metadata": {
    "colab": {
     "base_uri": "https://localhost:8080/"
    },
    "executionInfo": {
     "elapsed": 4104,
     "status": "ok",
     "timestamp": 1739858949963,
     "user": {
      "displayName": "Anika Priodorshinee Mrittika",
      "userId": "18201477252200877005"
     },
     "user_tz": -360
    },
    "id": "_dOR7KhESi1f",
    "outputId": "aed24d44-b4eb-4d6b-f7a9-f35db4a0e300"
   },
   "outputs": [
    {
     "name": "stdout",
     "output_type": "stream",
     "text": [
      "Enter number:4\n",
      "8\n"
     ]
    }
   ],
   "source": [
    "num = int(input(\"Enter number:\"))  #Take user input as string. Need to type cast to use the numbers\n",
    "print (num * 2)"
   ]
  },
  {
   "cell_type": "markdown",
   "metadata": {
    "id": "RMCzuY24dCqn"
   },
   "source": [
    "# Conditional Statements"
   ]
  },
  {
   "cell_type": "code",
   "execution_count": 24,
   "metadata": {
    "colab": {
     "base_uri": "https://localhost:8080/"
    },
    "executionInfo": {
     "elapsed": 26,
     "status": "ok",
     "timestamp": 1739858949963,
     "user": {
      "displayName": "Anika Priodorshinee Mrittika",
      "userId": "18201477252200877005"
     },
     "user_tz": -360
    },
    "id": "asPpvFthdIev",
    "outputId": "6cc353c4-6ea5-404a-d56f-63b3440ecd1b"
   },
   "outputs": [
    {
     "name": "stdout",
     "output_type": "stream",
     "text": [
      "Maximum is y\n"
     ]
    }
   ],
   "source": [
    "x = 5\n",
    "y = 6\n",
    "\n",
    "if x > y:\n",
    "  print(\"Maximum is x\")\n",
    "else:\n",
    "  print (\"Maximum is y\")"
   ]
  },
  {
   "cell_type": "code",
   "execution_count": 25,
   "metadata": {
    "colab": {
     "base_uri": "https://localhost:8080/"
    },
    "executionInfo": {
     "elapsed": 25,
     "status": "ok",
     "timestamp": 1739858949963,
     "user": {
      "displayName": "Anika Priodorshinee Mrittika",
      "userId": "18201477252200877005"
     },
     "user_tz": -360
    },
    "id": "zaQxon66dL8-",
    "outputId": "727f9da6-fbc3-4043-ef46-39b2286fbb45"
   },
   "outputs": [
    {
     "name": "stdout",
     "output_type": "stream",
     "text": [
      "x and y are equal\n"
     ]
    }
   ],
   "source": [
    "#elif\n",
    "x = 5\n",
    "y = 5\n",
    "\n",
    "if x > y:\n",
    "  print(\"Maximum is x\")\n",
    "elif x == y:\n",
    "  print (\"x and y are equal\")\n",
    "else:\n",
    "  print (\"Maximum is y\")"
   ]
  },
  {
   "cell_type": "code",
   "execution_count": 26,
   "metadata": {
    "colab": {
     "base_uri": "https://localhost:8080/"
    },
    "executionInfo": {
     "elapsed": 25,
     "status": "ok",
     "timestamp": 1739858949963,
     "user": {
      "displayName": "Anika Priodorshinee Mrittika",
      "userId": "18201477252200877005"
     },
     "user_tz": -360
    },
    "id": "6FWjqU1YdOoN",
    "outputId": "e6283de9-ffe7-4dbb-f672-a6f9c910ed92"
   },
   "outputs": [
    {
     "name": "stdout",
     "output_type": "stream",
     "text": [
      "Both conditions are True\n"
     ]
    }
   ],
   "source": [
    "#and - Both conditions need to be True\n",
    "a = 200\n",
    "b = 10\n",
    "c = 500\n",
    "if a > b and c > a:\n",
    "  print(\"Both conditions are True\")\n",
    "else:\n",
    "  print(\"Negative!!\")"
   ]
  },
  {
   "cell_type": "code",
   "execution_count": 27,
   "metadata": {
    "colab": {
     "base_uri": "https://localhost:8080/"
    },
    "executionInfo": {
     "elapsed": 25,
     "status": "ok",
     "timestamp": 1739858949964,
     "user": {
      "displayName": "Anika Priodorshinee Mrittika",
      "userId": "18201477252200877005"
     },
     "user_tz": -360
    },
    "id": "XTSMGCNtdQUD",
    "outputId": "d8723cd6-9936-4403-ab87-3b71762b5455"
   },
   "outputs": [
    {
     "name": "stdout",
     "output_type": "stream",
     "text": [
      "At least one of the conditions is True\n"
     ]
    }
   ],
   "source": [
    "#or - Either one of the conditions = True should be enough\n",
    "a = 200\n",
    "b = 10\n",
    "c = 500\n",
    "if a > b or a > c:\n",
    "  print(\"At least one of the conditions is True\")\n",
    "else:\n",
    "  print(\"Negative!!\")"
   ]
  },
  {
   "cell_type": "code",
   "execution_count": 28,
   "metadata": {
    "colab": {
     "base_uri": "https://localhost:8080/"
    },
    "executionInfo": {
     "elapsed": 24,
     "status": "ok",
     "timestamp": 1739858949964,
     "user": {
      "displayName": "Anika Priodorshinee Mrittika",
      "userId": "18201477252200877005"
     },
     "user_tz": -360
    },
    "id": "TNauSPbCdQ_b",
    "outputId": "4eb6039e-ffeb-4306-9bb6-f8b2c428e5c6"
   },
   "outputs": [
    {
     "name": "stdout",
     "output_type": "stream",
     "text": [
      "Above ten!\n",
      "and also above 20!\n"
     ]
    }
   ],
   "source": [
    "#Nested if\n",
    "x = 50\n",
    "\n",
    "if x > 10:\n",
    "  print(\"Above ten!\")\n",
    "  if x > 20:\n",
    "    print(\"and also above 20!\")\n",
    "  else:\n",
    "    print(\"but not above 20!\")\n",
    "else:\n",
    "  print(\"Not even above ten!\")"
   ]
  },
  {
   "cell_type": "code",
   "execution_count": 29,
   "metadata": {
    "executionInfo": {
     "elapsed": 24,
     "status": "ok",
     "timestamp": 1739858949964,
     "user": {
      "displayName": "Anika Priodorshinee Mrittika",
      "userId": "18201477252200877005"
     },
     "user_tz": -360
    },
    "id": "UAjfef3EdTdQ"
   },
   "outputs": [],
   "source": [
    "#pass statement - Can not leave any block blank. Use pass\n",
    "\n",
    "a = 10\n",
    "b = 20\n",
    "\n",
    "if b > a:\n",
    "  pass\n",
    "#else:\n",
    "#print(\"hello\")\n"
   ]
  },
  {
   "cell_type": "markdown",
   "metadata": {
    "id": "O3_VaiIIfaM3"
   },
   "source": [
    "# Python Built-in Data Types"
   ]
  },
  {
   "cell_type": "markdown",
   "metadata": {
    "id": "D06hYOfdff_9"
   },
   "source": [
    "#List\n",
    "* Similar to Java or C array, but not same\n",
    "* Collection of elements of multiple data types\n",
    "* Allows easy modification of data\n",
    "* Requires more memory to store additional information about data types of each element"
   ]
  },
  {
   "cell_type": "code",
   "execution_count": 30,
   "metadata": {
    "colab": {
     "base_uri": "https://localhost:8080/"
    },
    "executionInfo": {
     "elapsed": 23,
     "status": "ok",
     "timestamp": 1739858949964,
     "user": {
      "displayName": "Anika Priodorshinee Mrittika",
      "userId": "18201477252200877005"
     },
     "user_tz": -360
    },
    "id": "rYWSjBBbfiTV",
    "outputId": "18af0282-5684-4746-ff20-d17b06b4674e"
   },
   "outputs": [
    {
     "name": "stdout",
     "output_type": "stream",
     "text": [
      "[1, 2, 3, 4, 5]\n"
     ]
    }
   ],
   "source": [
    "#Initializing\n",
    "list = [1, 2, 3, 4, 5]\n",
    "print(list)"
   ]
  },
  {
   "cell_type": "code",
   "execution_count": 16,
   "metadata": {
    "colab": {
     "base_uri": "https://localhost:8080/"
    },
    "executionInfo": {
     "elapsed": 23,
     "status": "ok",
     "timestamp": 1739858949964,
     "user": {
      "displayName": "Anika Priodorshinee Mrittika",
      "userId": "18201477252200877005"
     },
     "user_tz": -360
    },
    "id": "2EZNHk0ig1He",
    "outputId": "f2478a81-a465-424c-cb73-8ccbd33eb008"
   },
   "outputs": [
    {
     "name": "stdout",
     "output_type": "stream",
     "text": [
      "3\n"
     ]
    }
   ],
   "source": [
    "mixed_list = [1, 2.5, \"hello\", [1, 2, 3]]\n",
    "print(mixed_list[3][2])"
   ]
  },
  {
   "cell_type": "code",
   "execution_count": 32,
   "metadata": {
    "colab": {
     "base_uri": "https://localhost:8080/"
    },
    "executionInfo": {
     "elapsed": 21,
     "status": "ok",
     "timestamp": 1739858949964,
     "user": {
      "displayName": "Anika Priodorshinee Mrittika",
      "userId": "18201477252200877005"
     },
     "user_tz": -360
    },
    "id": "9vTUgxdihAge",
    "outputId": "34d22cb7-7a8d-42be-bb9f-14d936e98bc7"
   },
   "outputs": [
    {
     "name": "stdout",
     "output_type": "stream",
     "text": [
      "5\n",
      "True\n",
      "[1, 2, 'New', 4, 5]\n",
      "[1, 2, 'New', 4, 5, 'World']\n"
     ]
    }
   ],
   "source": [
    "#List Methods\n",
    "print(len(list))\n",
    "print(4 in list)    #Search\n",
    "\n",
    "list[2] = \"New\"     #Update value\n",
    "print(list)\n",
    "\n",
    "list.append(\"World\")    #Add new element\n",
    "print(list)\n"
   ]
  },
  {
   "cell_type": "code",
   "execution_count": 33,
   "metadata": {
    "colab": {
     "base_uri": "https://localhost:8080/"
    },
    "executionInfo": {
     "elapsed": 20,
     "status": "ok",
     "timestamp": 1739858949964,
     "user": {
      "displayName": "Anika Priodorshinee Mrittika",
      "userId": "18201477252200877005"
     },
     "user_tz": -360
    },
    "id": "_c_eNM3TkGBH",
    "outputId": "34cfc633-c58d-4e0d-8fa3-db79747c69cc"
   },
   "outputs": [
    {
     "name": "stdout",
     "output_type": "stream",
     "text": [
      "[1, 2, 4, 5, 'World']\n",
      "[1, 4, 5, 'World']\n",
      "[1, 4, 5, 'World', 16, 55]\n"
     ]
    }
   ],
   "source": [
    "list.remove(\"New\")    #Remove element\n",
    "print(list)\n",
    "list.pop(1)           #Remove using index\n",
    "print(list)\n",
    "\n",
    "list2 = [16, 55]\n",
    "joined_list = list + list2\n",
    "print(joined_list)"
   ]
  },
  {
   "cell_type": "code",
   "execution_count": 34,
   "metadata": {
    "executionInfo": {
     "elapsed": 19,
     "status": "ok",
     "timestamp": 1739858949964,
     "user": {
      "displayName": "Anika Priodorshinee Mrittika",
      "userId": "18201477252200877005"
     },
     "user_tz": -360
    },
    "id": "S5RXQdaClcs2"
   },
   "outputs": [],
   "source": [
    "my_list = ['a', 'b', 'c', 'e', 'f', 'd']"
   ]
  },
  {
   "cell_type": "code",
   "execution_count": 35,
   "metadata": {
    "colab": {
     "base_uri": "https://localhost:8080/"
    },
    "executionInfo": {
     "elapsed": 19,
     "status": "ok",
     "timestamp": 1739858949964,
     "user": {
      "displayName": "Anika Priodorshinee Mrittika",
      "userId": "18201477252200877005"
     },
     "user_tz": -360
    },
    "id": "wp8se23clDYU",
    "outputId": "eb3fb9f6-8a7f-4349-a44b-589529c1dd17"
   },
   "outputs": [
    {
     "name": "stdout",
     "output_type": "stream",
     "text": [
      "e\n",
      "['b', 'c']\n",
      "['a', 'b', 'c']\n",
      "['e', 'f', 'd']\n",
      "['e', 'f', 'd']\n"
     ]
    }
   ],
   "source": [
    "#List Slicing\n",
    "\n",
    "print (my_list[3])\n",
    "print (my_list[1:3])\n",
    "print (my_list[:3])\n",
    "print (my_list[3:])\n",
    "print (my_list[-3:])"
   ]
  },
  {
   "cell_type": "code",
   "execution_count": 36,
   "metadata": {
    "colab": {
     "base_uri": "https://localhost:8080/"
    },
    "executionInfo": {
     "elapsed": 18,
     "status": "ok",
     "timestamp": 1739858949964,
     "user": {
      "displayName": "Anika Priodorshinee Mrittika",
      "userId": "18201477252200877005"
     },
     "user_tz": -360
    },
    "id": "oafw3g8PlXZn",
    "outputId": "2a8616b2-389b-486f-8660-e19f5bfc3240"
   },
   "outputs": [
    {
     "name": "stdout",
     "output_type": "stream",
     "text": [
      "['a', 'c']\n",
      "['a', 'b', 'c', 'e', 'f', 'd']\n",
      "['a', 'c', 'f']\n",
      "['d', 'f', 'e', 'c', 'b', 'a']\n"
     ]
    }
   ],
   "source": [
    "print (my_list[0:4:2])      #index+2 everytime\n",
    "print (my_list[:])          #All elements\n",
    "print (my_list[::2])\n",
    "print (my_list[::-1])       #Reverse order"
   ]
  },
  {
   "cell_type": "code",
   "execution_count": 37,
   "metadata": {
    "colab": {
     "base_uri": "https://localhost:8080/"
    },
    "executionInfo": {
     "elapsed": 18,
     "status": "ok",
     "timestamp": 1739858949964,
     "user": {
      "displayName": "Anika Priodorshinee Mrittika",
      "userId": "18201477252200877005"
     },
     "user_tz": -360
    },
    "id": "vnwvsBQVlZqQ",
    "outputId": "a8ac8b48-6476-4b63-cd04-8caf9cf11f04"
   },
   "outputs": [
    {
     "name": "stdout",
     "output_type": "stream",
     "text": [
      "['f', 'e', 'd', 'c']\n"
     ]
    }
   ],
   "source": [
    "#Print last 4 elements in reverse\n",
    "my_list = ['a', 'b', 'c', 'd', 'e', 'f']\n",
    "\n",
    "print (my_list[-1:-5:-1])"
   ]
  },
  {
   "cell_type": "code",
   "execution_count": 38,
   "metadata": {
    "colab": {
     "base_uri": "https://localhost:8080/"
    },
    "executionInfo": {
     "elapsed": 17,
     "status": "ok",
     "timestamp": 1739858949964,
     "user": {
      "displayName": "Anika Priodorshinee Mrittika",
      "userId": "18201477252200877005"
     },
     "user_tz": -360
    },
    "id": "KfetchE5la4Z",
    "outputId": "baca471f-8b08-4cf2-e212-f47573e19779"
   },
   "outputs": [
    {
     "name": "stdout",
     "output_type": "stream",
     "text": [
      "['e', 'd', 'c', 'b']\n"
     ]
    }
   ],
   "source": [
    "#print 2nd to 5th element reverse order\n",
    "print (my_list[4:0:-1])"
   ]
  },
  {
   "cell_type": "code",
   "execution_count": 39,
   "metadata": {
    "colab": {
     "base_uri": "https://localhost:8080/"
    },
    "executionInfo": {
     "elapsed": 16,
     "status": "ok",
     "timestamp": 1739858949964,
     "user": {
      "displayName": "Anika Priodorshinee Mrittika",
      "userId": "18201477252200877005"
     },
     "user_tz": -360
    },
    "id": "VnpfPciTnTpI",
    "outputId": "1f5fc8b7-5819-4657-9935-3fb958c0dcfa"
   },
   "outputs": [
    {
     "name": "stdout",
     "output_type": "stream",
     "text": [
      "7\n"
     ]
    }
   ],
   "source": [
    "#Matrix [List of list] using list\n",
    "matrix = [[1, 2, 3, 4],\n",
    "          [5, 6, 7, 8]]\n",
    "\n",
    "# |1 2 3 4|\n",
    "# |5 6 7 8|\n",
    "\n",
    "print (matrix[1][2])"
   ]
  },
  {
   "cell_type": "markdown",
   "metadata": {
    "id": "6CwFa9HRr_hC"
   },
   "source": [
    "# Tuple\n",
    "* Immutable - Items can not be modified\n",
    "* Collection of elements of multiple data types"
   ]
  },
  {
   "cell_type": "code",
   "execution_count": 18,
   "metadata": {
    "colab": {
     "base_uri": "https://localhost:8080/"
    },
    "executionInfo": {
     "elapsed": 15,
     "status": "ok",
     "timestamp": 1739858949964,
     "user": {
      "displayName": "Anika Priodorshinee Mrittika",
      "userId": "18201477252200877005"
     },
     "user_tz": -360
    },
    "id": "GDam-N-2sBWr",
    "outputId": "136e7237-7fd2-44cb-e34c-e4e3f08617a7"
   },
   "outputs": [
    {
     "data": {
      "text/plain": [
       "1"
      ]
     },
     "execution_count": 18,
     "metadata": {},
     "output_type": "execute_result"
    }
   ],
   "source": [
    "tuple = (1, 2, 3, 4, 5)\n",
    "tuple[0]"
   ]
  },
  {
   "cell_type": "code",
   "execution_count": 19,
   "metadata": {
    "colab": {
     "base_uri": "https://localhost:8080/",
     "height": 141
    },
    "executionInfo": {
     "elapsed": 15,
     "status": "error",
     "timestamp": 1739858949964,
     "user": {
      "displayName": "Anika Priodorshinee Mrittika",
      "userId": "18201477252200877005"
     },
     "user_tz": -360
    },
    "id": "8QiO-_bIslYl",
    "outputId": "a15ce2ff-0b07-493d-d5e3-36444272d57d"
   },
   "outputs": [
    {
     "ename": "TypeError",
     "evalue": "'tuple' object does not support item assignment",
     "output_type": "error",
     "traceback": [
      "\u001b[1;31m---------------------------------------------------------------------------\u001b[0m",
      "\u001b[1;31mTypeError\u001b[0m                                 Traceback (most recent call last)",
      "Cell \u001b[1;32mIn[19], line 1\u001b[0m\n\u001b[1;32m----> 1\u001b[0m \u001b[38;5;28;43mtuple\u001b[39;49m\u001b[43m[\u001b[49m\u001b[38;5;241;43m1\u001b[39;49m\u001b[43m]\u001b[49m \u001b[38;5;241m=\u001b[39m \u001b[38;5;124m\"\u001b[39m\u001b[38;5;124mhello\u001b[39m\u001b[38;5;124m\"\u001b[39m\n",
      "\u001b[1;31mTypeError\u001b[0m: 'tuple' object does not support item assignment"
     ]
    }
   ],
   "source": [
    "tuple[1] = \"hello\""
   ]
  },
  {
   "cell_type": "markdown",
   "metadata": {
    "id": "vgcyxF2ps6KI"
   },
   "source": [
    "#Set\n",
    "* Immutable - Items can not be modified\n",
    "* Unordered - No index\n",
    "* No duplicates allowed"
   ]
  },
  {
   "cell_type": "code",
   "execution_count": 20,
   "metadata": {
    "executionInfo": {
     "elapsed": 14,
     "status": "aborted",
     "timestamp": 1739858949965,
     "user": {
      "displayName": "Anika Priodorshinee Mrittika",
      "userId": "18201477252200877005"
     },
     "user_tz": -360
    },
    "id": "9W6aIMQutG5o"
   },
   "outputs": [
    {
     "name": "stdout",
     "output_type": "stream",
     "text": [
      "{'apple', 'cherry', 'banana'}\n"
     ]
    }
   ],
   "source": [
    "set = {\"apple\", \"banana\", \"cherry\", \"banana\"}\n",
    "print(set)"
   ]
  },
  {
   "cell_type": "code",
   "execution_count": 21,
   "metadata": {
    "executionInfo": {
     "elapsed": 14,
     "status": "aborted",
     "timestamp": 1739858949965,
     "user": {
      "displayName": "Anika Priodorshinee Mrittika",
      "userId": "18201477252200877005"
     },
     "user_tz": -360
    },
    "id": "GtfvBZX2tmAM"
   },
   "outputs": [
    {
     "name": "stdout",
     "output_type": "stream",
     "text": [
      "{'apple', 'cherry', 'banana', 'orange'}\n",
      "{'apple', 'cherry', 'orange'}\n"
     ]
    }
   ],
   "source": [
    "set.add(\"orange\")\n",
    "print(set)\n",
    "\n",
    "set.remove(\"banana\")\n",
    "print(set)"
   ]
  },
  {
   "cell_type": "markdown",
   "metadata": {
    "id": "HZ2WTD9Lt7Gd"
   },
   "source": [
    "# Dictionary\n",
    "* Values stored as key:value pair\n",
    "* Mutable\n",
    "* Key can be of any types but can not be a duplicate value"
   ]
  },
  {
   "cell_type": "code",
   "execution_count": null,
   "metadata": {
    "executionInfo": {
     "elapsed": 14,
     "status": "aborted",
     "timestamp": 1739858949965,
     "user": {
      "displayName": "Anika Priodorshinee Mrittika",
      "userId": "18201477252200877005"
     },
     "user_tz": -360
    },
    "id": "7XIvFev-uHCh"
   },
   "outputs": [],
   "source": [
    "drivers = {\n",
    "    16: \"Charles\",\n",
    "    1: \"Max\",\n",
    "    55: \"Carlos\",\n",
    "    \"Extra\": \"Liam\"\n",
    "}\n",
    "\n",
    "print(drivers)"
   ]
  },
  {
   "cell_type": "code",
   "execution_count": null,
   "metadata": {
    "executionInfo": {
     "elapsed": 14,
     "status": "aborted",
     "timestamp": 1739858949965,
     "user": {
      "displayName": "Anika Priodorshinee Mrittika",
      "userId": "18201477252200877005"
     },
     "user_tz": -360
    },
    "id": "VAkrgpV2vJk8"
   },
   "outputs": [],
   "source": [
    "print(drivers[\"Extra\"])      #Accessing elements\n",
    "\n",
    "drivers[\"Extra\"] = \"Ollie\"\n",
    "print(drivers)\n",
    "\n",
    "drivers.update({81:\"Oscar\"})\n",
    "print(drivers)\n",
    "\n",
    "drivers.pop(\"Extra\")\n",
    "print(drivers)"
   ]
  },
  {
   "cell_type": "markdown",
   "metadata": {
    "id": "XefbnIv-yCPq"
   },
   "source": [
    "# Loops\n",
    "* 2 types - while loop and for loop"
   ]
  },
  {
   "cell_type": "code",
   "execution_count": null,
   "metadata": {
    "executionInfo": {
     "elapsed": 14,
     "status": "aborted",
     "timestamp": 1739858949965,
     "user": {
      "displayName": "Anika Priodorshinee Mrittika",
      "userId": "18201477252200877005"
     },
     "user_tz": -360
    },
    "id": "mzPpzOMDvxez"
   },
   "outputs": [],
   "source": [
    "#while loop\n",
    "i = 0\n",
    "while i < 10:\n",
    "    print(i)\n",
    "    i = i + 1"
   ]
  },
  {
   "cell_type": "code",
   "execution_count": null,
   "metadata": {
    "executionInfo": {
     "elapsed": 14,
     "status": "aborted",
     "timestamp": 1739858949965,
     "user": {
      "displayName": "Anika Priodorshinee Mrittika",
      "userId": "18201477252200877005"
     },
     "user_tz": -360
    },
    "id": "4OVl6arPyrCI"
   },
   "outputs": [],
   "source": [
    "#for loop\n",
    "for i in range(0, 10, 2): #ending index is exclusive\n",
    "  print(i)"
   ]
  },
  {
   "cell_type": "code",
   "execution_count": null,
   "metadata": {
    "executionInfo": {
     "elapsed": 14,
     "status": "aborted",
     "timestamp": 1739858949965,
     "user": {
      "displayName": "Anika Priodorshinee Mrittika",
      "userId": "18201477252200877005"
     },
     "user_tz": -360
    },
    "id": "mNWb7g0Fyy-l"
   },
   "outputs": [],
   "source": [
    "# Iterate over the list\n",
    "list = ['a', 'b', 'c', 'd', 'e']\n",
    "\n",
    "for i in list:\n",
    "  print (i)\n",
    "print(\"------------------\")\n",
    "for i in range(len(list)):\n",
    "  print(i)"
   ]
  },
  {
   "cell_type": "code",
   "execution_count": null,
   "metadata": {
    "executionInfo": {
     "elapsed": 14,
     "status": "aborted",
     "timestamp": 1739858949965,
     "user": {
      "displayName": "Anika Priodorshinee Mrittika",
      "userId": "18201477252200877005"
     },
     "user_tz": -360
    },
    "id": "m7glCG6By0l0"
   },
   "outputs": [],
   "source": [
    "# Program to iterate through a list using indexing\n",
    "list = ['a', 'b', 'c', 'd', 'e']\n",
    "\n",
    "# iterate over the list using index\n",
    "for i in range(0, len(list)):\n",
    "    print(\"index =\", i, \"value =\", list[i])"
   ]
  },
  {
   "cell_type": "code",
   "execution_count": null,
   "metadata": {
    "executionInfo": {
     "elapsed": 14,
     "status": "aborted",
     "timestamp": 1739858949965,
     "user": {
      "displayName": "Anika Priodorshinee Mrittika",
      "userId": "18201477252200877005"
     },
     "user_tz": -360
    },
    "id": "mQDpRFlmy2Jx"
   },
   "outputs": [],
   "source": [
    "#break statement - Out of the loop\n",
    "fruits = [\"apple\", \"banana\", \"cherry\"]\n",
    "for x in fruits:\n",
    "  print(x)\n",
    "  if x == \"banana\":\n",
    "    break"
   ]
  },
  {
   "cell_type": "code",
   "execution_count": null,
   "metadata": {
    "executionInfo": {
     "elapsed": 14,
     "status": "aborted",
     "timestamp": 1739858949965,
     "user": {
      "displayName": "Anika Priodorshinee Mrittika",
      "userId": "18201477252200877005"
     },
     "user_tz": -360
    },
    "id": "BbuEkXpmy6Rk"
   },
   "outputs": [],
   "source": [
    "#continue statement - Stop the current iteration of the loop and continue with the next\n",
    "fruits = [\"apple\", \"banana\", \"cherry\"]\n",
    "for i in fruits:\n",
    "  if i == \"banana\":\n",
    "    continue\n",
    "  print(i)"
   ]
  },
  {
   "cell_type": "code",
   "execution_count": null,
   "metadata": {
    "executionInfo": {
     "elapsed": 14,
     "status": "aborted",
     "timestamp": 1739858949965,
     "user": {
      "displayName": "Anika Priodorshinee Mrittika",
      "userId": "18201477252200877005"
     },
     "user_tz": -360
    },
    "id": "pAcc-O_e8lk-"
   },
   "outputs": [],
   "source": [
    "fruits = [\"apple\", \"banana\", \"cherry\"]\n",
    "for i in fruits:\n",
    "  if i == \"banana\":\n",
    "    pass\n",
    "  print(i)"
   ]
  },
  {
   "cell_type": "code",
   "execution_count": null,
   "metadata": {
    "executionInfo": {
     "elapsed": 14,
     "status": "aborted",
     "timestamp": 1739858949965,
     "user": {
      "displayName": "Anika Priodorshinee Mrittika",
      "userId": "18201477252200877005"
     },
     "user_tz": -360
    },
    "id": "aJR6A5Cvy-jl"
   },
   "outputs": [],
   "source": [
    "#Nested loop\n",
    "num_list = [1 , 2, 3]\n",
    "alphabet_list = ['a', 'b', 'c']\n",
    "\n",
    "for number in num_list:\n",
    "    print(number)\n",
    "    for letter in alphabet_list:\n",
    "        print(letter)"
   ]
  },
  {
   "cell_type": "markdown",
   "metadata": {
    "id": "1DozBdLd8Lms"
   },
   "source": [
    "# Functions"
   ]
  },
  {
   "cell_type": "code",
   "execution_count": null,
   "metadata": {
    "executionInfo": {
     "elapsed": 14,
     "status": "aborted",
     "timestamp": 1739858949965,
     "user": {
      "displayName": "Anika Priodorshinee Mrittika",
      "userId": "18201477252200877005"
     },
     "user_tz": -360
    },
    "id": "-VNi1sQS8O6T"
   },
   "outputs": [],
   "source": [
    "def hello_function():\n",
    "  print(\"Hello\")\n",
    "\n",
    "hello_function()      #Global Scope"
   ]
  },
  {
   "cell_type": "code",
   "execution_count": null,
   "metadata": {
    "executionInfo": {
     "elapsed": 13,
     "status": "aborted",
     "timestamp": 1739858949965,
     "user": {
      "displayName": "Anika Priodorshinee Mrittika",
      "userId": "18201477252200877005"
     },
     "user_tz": -360
    },
    "id": "8ZIcw_Xf8Rm6"
   },
   "outputs": [],
   "source": [
    "#With parameter\n",
    "def name_function(fname, lname):\n",
    "  print(fname, \" \", lname)\n",
    "\n",
    "name_function(\"Anika\", \"Mrittika\")"
   ]
  },
  {
   "cell_type": "code",
   "execution_count": null,
   "metadata": {
    "executionInfo": {
     "elapsed": 13,
     "status": "aborted",
     "timestamp": 1739858949965,
     "user": {
      "displayName": "Anika Priodorshinee Mrittika",
      "userId": "18201477252200877005"
     },
     "user_tz": -360
    },
    "id": "GyE5gcc88TfB"
   },
   "outputs": [],
   "source": [
    "#With return statement\n",
    "def sum_numbers(number1, number2):\n",
    "  result = number1+number2\n",
    "  return result\n",
    "\n",
    "x = sum_numbers(2, 3)\n",
    "print (x)"
   ]
  },
  {
   "cell_type": "code",
   "execution_count": null,
   "metadata": {
    "executionInfo": {
     "elapsed": 13,
     "status": "aborted",
     "timestamp": 1739858949965,
     "user": {
      "displayName": "Anika Priodorshinee Mrittika",
      "userId": "18201477252200877005"
     },
     "user_tz": -360
    },
    "id": "f-xmb-TG8WZh"
   },
   "outputs": [],
   "source": [
    "#Default Parameter Value\n",
    "def increment(number, by=1):\n",
    "    return number + 2*by\n",
    "\n",
    "print(increment(2))\n",
    "print(increment(2, 5))\n",
    "\n",
    "# Keyword arguments\n",
    "print(increment(by=1, number=2))"
   ]
  },
  {
   "cell_type": "code",
   "execution_count": null,
   "metadata": {
    "executionInfo": {
     "elapsed": 13,
     "status": "aborted",
     "timestamp": 1739858949965,
     "user": {
      "displayName": "Anika Priodorshinee Mrittika",
      "userId": "18201477252200877005"
     },
     "user_tz": -360
    },
    "id": "RKxRqj9f8XCP"
   },
   "outputs": [],
   "source": [
    "#If the number of arguments is unknown, add a * before the parameter name. Stored as a Tuple\n",
    "def print_student_list(*kids):\n",
    "  print(kids)\n",
    "  for x in kids:\n",
    "    print (x)\n",
    "\n",
    "print_student_list(\"Emil\", \"Tobias\", \"Linus\")"
   ]
  },
  {
   "cell_type": "markdown",
   "metadata": {
    "id": "0EE-AY7H_OhY"
   },
   "source": [
    "# Numpy\n",
    "* A Python library\n",
    "* Used for working with arrays\n",
    "* Short form of \"Numerical Python\"\n",
    "* Aims to provide an array object that is up to 50x faster than traditional Python lists\n",
    "* Provides a lot of supporting functions"
   ]
  },
  {
   "cell_type": "code",
   "execution_count": 5,
   "metadata": {},
   "outputs": [
    {
     "name": "stdout",
     "output_type": "stream",
     "text": [
      "Requirement already satisfied: numpy in c:\\users\\sohanur rahman shimu\\appdata\\local\\packages\\pythonsoftwarefoundation.python.3.11_qbz5n2kfra8p0\\localcache\\local-packages\\python311\\site-packages (2.2.3)\n",
      "Note: you may need to restart the kernel to use updated packages.\n"
     ]
    },
    {
     "name": "stderr",
     "output_type": "stream",
     "text": [
      "\n",
      "[notice] A new release of pip is available: 24.0 -> 25.0.1\n",
      "[notice] To update, run: C:\\Users\\Sohanur Rahman Shimu\\AppData\\Local\\Microsoft\\WindowsApps\\PythonSoftwareFoundation.Python.3.11_qbz5n2kfra8p0\\python.exe -m pip install --upgrade pip\n"
     ]
    }
   ],
   "source": [
    "pip install numpy"
   ]
  },
  {
   "cell_type": "code",
   "execution_count": 6,
   "metadata": {
    "executionInfo": {
     "elapsed": 643,
     "status": "ok",
     "timestamp": 1739858961491,
     "user": {
      "displayName": "Anika Priodorshinee Mrittika",
      "userId": "18201477252200877005"
     },
     "user_tz": -360
    },
    "id": "xtFNP_RN_pMg"
   },
   "outputs": [],
   "source": [
    "import numpy as np"
   ]
  },
  {
   "cell_type": "code",
   "execution_count": null,
   "metadata": {
    "colab": {
     "base_uri": "https://localhost:8080/"
    },
    "executionInfo": {
     "elapsed": 2,
     "status": "ok",
     "timestamp": 1739858962401,
     "user": {
      "displayName": "Anika Priodorshinee Mrittika",
      "userId": "18201477252200877005"
     },
     "user_tz": -360
    },
    "id": "Z3WFV-mw_spn",
    "outputId": "38ce654c-11bb-4742-ca80-6344a0ab3268"
   },
   "outputs": [
    {
     "name": "stdout",
     "output_type": "stream",
     "text": [
      "[1.   2.   3.   2.45]\n",
      "<class 'numpy.ndarray'>\n"
     ]
    }
   ],
   "source": [
    "arr = np.array([1 , 2, 3, 2.45, \"hello\"])\n",
    "print(arr)\n",
    "\n",
    "print(type(arr))"
   ]
  },
  {
   "cell_type": "code",
   "execution_count": 4,
   "metadata": {
    "colab": {
     "base_uri": "https://localhost:8080/"
    },
    "executionInfo": {
     "elapsed": 3,
     "status": "ok",
     "timestamp": 1739858963584,
     "user": {
      "displayName": "Anika Priodorshinee Mrittika",
      "userId": "18201477252200877005"
     },
     "user_tz": -360
    },
    "id": "6ca6xhZ7_w0O",
    "outputId": "95367f37-26ff-456b-8bd0-eaded342f879"
   },
   "outputs": [
    {
     "name": "stdout",
     "output_type": "stream",
     "text": [
      "5\n",
      "(5,)\n"
     ]
    }
   ],
   "source": [
    "print(len(arr))\n",
    "print(arr.shape)    #row, column"
   ]
  },
  {
   "cell_type": "code",
   "execution_count": 71,
   "metadata": {
    "colab": {
     "base_uri": "https://localhost:8080/"
    },
    "executionInfo": {
     "elapsed": 348,
     "status": "ok",
     "timestamp": 1739860510089,
     "user": {
      "displayName": "Anika Priodorshinee Mrittika",
      "userId": "18201477252200877005"
     },
     "user_tz": -360
    },
    "id": "iDcdgWMt_yVH",
    "outputId": "650cf03e-0a7d-4024-a1a6-bd2564811ae2"
   },
   "outputs": [
    {
     "name": "stdout",
     "output_type": "stream",
     "text": [
      "[ 1  2  3  4  5 70]\n",
      "[1 2 3 4 5]\n"
     ]
    }
   ],
   "source": [
    "#Append\n",
    "x = np.array([1, 2, 3, 4, 5])\n",
    "y = np.append(x, [70])\n",
    "print(y)\n",
    "print(x)    #No change in main array"
   ]
  },
  {
   "cell_type": "code",
   "execution_count": 73,
   "metadata": {
    "colab": {
     "base_uri": "https://localhost:8080/"
    },
    "executionInfo": {
     "elapsed": 352,
     "status": "ok",
     "timestamp": 1739861204036,
     "user": {
      "displayName": "Anika Priodorshinee Mrittika",
      "userId": "18201477252200877005"
     },
     "user_tz": -360
    },
    "id": "Q1pfVX40_0FN",
    "outputId": "a6e9a1de-b0e6-4cdc-fa7a-36159c7f931a"
   },
   "outputs": [
    {
     "name": "stdout",
     "output_type": "stream",
     "text": [
      "[1 2 3 4 5]\n",
      "[1 2 3 5]\n"
     ]
    }
   ],
   "source": [
    "#Delete\n",
    "x = np.array([1, 2, 3, 4, 5])\n",
    "y = np.delete(x, 3)   #Delete using index\n",
    "print(x)\n",
    "print(y)\n",
    "\n",
    "# print(x)             #No change in main array"
   ]
  },
  {
   "cell_type": "code",
   "execution_count": 47,
   "metadata": {
    "colab": {
     "base_uri": "https://localhost:8080/"
    },
    "executionInfo": {
     "elapsed": 1,
     "status": "ok",
     "timestamp": 1739858965491,
     "user": {
      "displayName": "Anika Priodorshinee Mrittika",
      "userId": "18201477252200877005"
     },
     "user_tz": -360
    },
    "id": "1qy0N4g3_3j2",
    "outputId": "1f5e8526-ec3b-4eb2-92d5-1f8352058c7e"
   },
   "outputs": [
    {
     "name": "stdout",
     "output_type": "stream",
     "text": [
      "[ 3  5  7  8 10]\n",
      "[8 7]\n",
      "[10  8  7  5  3]\n"
     ]
    }
   ],
   "source": [
    "#Sorting\n",
    "x = np.array([7, 8, 3, 10, 5])\n",
    "sorted_x = np.sort(x)\n",
    "print(sorted_x)     #Ascending\n",
    "print(sorted_x[3:1:-1])   #Descending - Reverse the Ascending order sorted array\n",
    "\n",
    "print(sorted_x[::-1])"
   ]
  },
  {
   "cell_type": "code",
   "execution_count": 75,
   "metadata": {
    "colab": {
     "base_uri": "https://localhost:8080/"
    },
    "executionInfo": {
     "elapsed": 322,
     "status": "ok",
     "timestamp": 1739861564210,
     "user": {
      "displayName": "Anika Priodorshinee Mrittika",
      "userId": "18201477252200877005"
     },
     "user_tz": -360
    },
    "id": "vIZa3jz__5Fk",
    "outputId": "a521d59d-edb6-48e7-d7ff-e51c762a3ef5"
   },
   "outputs": [
    {
     "name": "stdout",
     "output_type": "stream",
     "text": [
      "[[ 1  2  3  7 55]\n",
      " [ 4  5  6 99 10]]\n"
     ]
    }
   ],
   "source": [
    "arr_2d = np.array([[1, 2, 3, 7, 55],\n",
    "                   [4, 5, 6, 99, 10]])\n",
    "print(arr_2d)"
   ]
  },
  {
   "cell_type": "code",
   "execution_count": 76,
   "metadata": {
    "colab": {
     "base_uri": "https://localhost:8080/"
    },
    "executionInfo": {
     "elapsed": 333,
     "status": "ok",
     "timestamp": 1739861566570,
     "user": {
      "displayName": "Anika Priodorshinee Mrittika",
      "userId": "18201477252200877005"
     },
     "user_tz": -360
    },
    "id": "XBmIx2l5D8No",
    "outputId": "54cd6de5-4cfe-4c0d-b8dd-14e5aacc0ccd"
   },
   "outputs": [
    {
     "name": "stdout",
     "output_type": "stream",
     "text": [
      "2\n",
      "(2, 5)\n",
      "2\n"
     ]
    }
   ],
   "source": [
    "print(len(arr_2d))\n",
    "print(arr_2d.shape)     #row, column\n",
    "print(arr_2d.ndim)      #Dimension"
   ]
  },
  {
   "cell_type": "code",
   "execution_count": 50,
   "metadata": {
    "colab": {
     "base_uri": "https://localhost:8080/"
    },
    "executionInfo": {
     "elapsed": 2,
     "status": "ok",
     "timestamp": 1739858969188,
     "user": {
      "displayName": "Anika Priodorshinee Mrittika",
      "userId": "18201477252200877005"
     },
     "user_tz": -360
    },
    "id": "PZpNDB7L_6pX",
    "outputId": "7ecaf19d-4da5-45f6-e747-508c71d54150"
   },
   "outputs": [
    {
     "name": "stdout",
     "output_type": "stream",
     "text": [
      "1\n",
      "4\n"
     ]
    }
   ],
   "source": [
    "#indexing\n",
    "arr = np.array([1, 2, 3, 4])\n",
    "\n",
    "print(arr[0])     #1st element\n",
    "print(arr[-1])    #Last element"
   ]
  },
  {
   "cell_type": "code",
   "execution_count": 51,
   "metadata": {
    "colab": {
     "base_uri": "https://localhost:8080/"
    },
    "executionInfo": {
     "elapsed": 1,
     "status": "ok",
     "timestamp": 1739858970501,
     "user": {
      "displayName": "Anika Priodorshinee Mrittika",
      "userId": "18201477252200877005"
     },
     "user_tz": -360
    },
    "id": "IrKfWsQjESMX",
    "outputId": "c3757353-713f-417a-dc89-8d40f828777e"
   },
   "outputs": [
    {
     "name": "stdout",
     "output_type": "stream",
     "text": [
      "[[ 1  2  3  4  5]\n",
      " [ 6  7  8  9 10]]\n",
      "4th element on 2nd row:  9\n"
     ]
    }
   ],
   "source": [
    "arr = np.array([[1,2,3,4,5],\n",
    "               [6,7,8,9,10]])\n",
    "print(arr)\n",
    "\n",
    "print('4th element on 2nd row: ', arr[1, 3])"
   ]
  },
  {
   "cell_type": "code",
   "execution_count": 9,
   "metadata": {
    "colab": {
     "base_uri": "https://localhost:8080/"
    },
    "executionInfo": {
     "elapsed": 367,
     "status": "ok",
     "timestamp": 1739860677703,
     "user": {
      "displayName": "Anika Priodorshinee Mrittika",
      "userId": "18201477252200877005"
     },
     "user_tz": -360
    },
    "id": "H0rVK7A_BJEt",
    "outputId": "1479d984-5490-4967-bcce-32f082e3f9af"
   },
   "outputs": [
    {
     "name": "stdout",
     "output_type": "stream",
     "text": [
      "[5 6 7]\n",
      "[1 2 3 4]\n",
      "[5 6]\n",
      "[2 4]\n"
     ]
    }
   ],
   "source": [
    "#Slicing\n",
    "arr = np.array([1, 2, 3, 4, 5, 6, 7])\n",
    "\n",
    "print(arr[4:])\n",
    "print(arr[:4])\n",
    "print(arr[-3:-1])\n",
    "print(arr[1:5:2])"
   ]
  },
  {
   "cell_type": "code",
   "execution_count": 52,
   "metadata": {
    "colab": {
     "base_uri": "https://localhost:8080/"
    },
    "executionInfo": {
     "elapsed": 488,
     "status": "ok",
     "timestamp": 1739858973538,
     "user": {
      "displayName": "Anika Priodorshinee Mrittika",
      "userId": "18201477252200877005"
     },
     "user_tz": -360
    },
    "id": "YoYhF5ErBWDo",
    "outputId": "9d202b7e-c317-4bd8-cd62-44cbd24a2106"
   },
   "outputs": [
    {
     "name": "stdout",
     "output_type": "stream",
     "text": [
      "[7 8 9]\n",
      "[[2 3 4]\n",
      " [7 8 9]]\n"
     ]
    }
   ],
   "source": [
    "#Slicing 2-D Arrays\n",
    "arr = np.array([[1, 2, 3, 4, 5],\n",
    "                [6, 7, 8, 9, 10]])\n",
    "\n",
    "#From the second row, slice elements from index 1 to index 4 (not included)\n",
    "print(arr[1, 1:4])\n",
    "\n",
    "#From both rows, slice index 1 to index 4 (not included)\n",
    "print(arr[0:2, 1:4])"
   ]
  },
  {
   "cell_type": "code",
   "execution_count": 53,
   "metadata": {
    "colab": {
     "base_uri": "https://localhost:8080/"
    },
    "executionInfo": {
     "elapsed": 2,
     "status": "ok",
     "timestamp": 1739858973844,
     "user": {
      "displayName": "Anika Priodorshinee Mrittika",
      "userId": "18201477252200877005"
     },
     "user_tz": -360
    },
    "id": "XTp-AIxLBXjK",
    "outputId": "6be1dbf4-1637-47f4-f70e-2e32045a9171"
   },
   "outputs": [
    {
     "name": "stdout",
     "output_type": "stream",
     "text": [
      "[[ 1  2  3  4  5]\n",
      " [ 6  7  8  9 10]]\n"
     ]
    }
   ],
   "source": [
    "arr = np.array([[1, 2, 3, 4, 5],\n",
    "                [6, 7, 8, 9, 10]])\n",
    "print (arr)"
   ]
  },
  {
   "cell_type": "code",
   "execution_count": 54,
   "metadata": {
    "colab": {
     "base_uri": "https://localhost:8080/"
    },
    "executionInfo": {
     "elapsed": 336,
     "status": "ok",
     "timestamp": 1739858975970,
     "user": {
      "displayName": "Anika Priodorshinee Mrittika",
      "userId": "18201477252200877005"
     },
     "user_tz": -360
    },
    "id": "zQQJ3EjNBZGh",
    "outputId": "2e1daa0b-d670-49c0-cc4d-f69296b92663"
   },
   "outputs": [
    {
     "name": "stdout",
     "output_type": "stream",
     "text": [
      "[1 6]\n",
      "[1 2 3 4 5]\n"
     ]
    }
   ],
   "source": [
    "print(arr[:, 0])    #column\n",
    "print(arr[0, :])    #row"
   ]
  },
  {
   "cell_type": "code",
   "execution_count": 55,
   "metadata": {
    "colab": {
     "base_uri": "https://localhost:8080/"
    },
    "executionInfo": {
     "elapsed": 361,
     "status": "ok",
     "timestamp": 1739858976683,
     "user": {
      "displayName": "Anika Priodorshinee Mrittika",
      "userId": "18201477252200877005"
     },
     "user_tz": -360
    },
    "id": "rpqch64hBZgb",
    "outputId": "cbf54661-2078-4b2c-ef17-405bcfd3c238"
   },
   "outputs": [
    {
     "name": "stdout",
     "output_type": "stream",
     "text": [
      "[0. 0.]\n"
     ]
    }
   ],
   "source": [
    "#zero matrix\n",
    "x = np.zeros(2)\n",
    "print(x)"
   ]
  },
  {
   "cell_type": "code",
   "execution_count": 77,
   "metadata": {
    "colab": {
     "base_uri": "https://localhost:8080/"
    },
    "executionInfo": {
     "elapsed": 364,
     "status": "ok",
     "timestamp": 1739862356697,
     "user": {
      "displayName": "Anika Priodorshinee Mrittika",
      "userId": "18201477252200877005"
     },
     "user_tz": -360
    },
    "id": "1RH97HoTHhBc",
    "outputId": "78c828fb-5b20-4025-9bcc-ec7aa9e4e467"
   },
   "outputs": [
    {
     "name": "stdout",
     "output_type": "stream",
     "text": [
      "[[0. 0.]\n",
      " [0. 0.]\n",
      " [0. 0.]\n",
      " [0. 0.]]\n",
      "(4, 2)\n"
     ]
    }
   ],
   "source": [
    "y = np.zeros((4,2))     #row, column\n",
    "print(y)\n",
    "print(y.shape)"
   ]
  },
  {
   "cell_type": "code",
   "execution_count": 57,
   "metadata": {
    "colab": {
     "base_uri": "https://localhost:8080/"
    },
    "executionInfo": {
     "elapsed": 334,
     "status": "ok",
     "timestamp": 1739859011098,
     "user": {
      "displayName": "Anika Priodorshinee Mrittika",
      "userId": "18201477252200877005"
     },
     "user_tz": -360
    },
    "id": "n4nyp2G-Ba58",
    "outputId": "914ece97-0d82-44c8-e20a-ff910fec3819"
   },
   "outputs": [
    {
     "name": "stdout",
     "output_type": "stream",
     "text": [
      "12\n",
      "60\n",
      "21\n",
      "[5 7 9]\n",
      "[ 6 15]\n"
     ]
    }
   ],
   "source": [
    "a = np.array([3, 4, 5])\n",
    "b = np.array([[1,2,3],\n",
    "              [4,5,6]])\n",
    "\n",
    "print(np.sum(a))      #Summation of all elements\n",
    "print(np.prod(a))     #Product of all elements\n",
    "\n",
    "print(np.sum(b))\n",
    "print(np.sum(b, axis=0))      #Column-wise\n",
    "print(np.sum(b, axis=1))      #Row-wise"
   ]
  },
  {
   "cell_type": "code",
   "execution_count": 59,
   "metadata": {
    "colab": {
     "base_uri": "https://localhost:8080/"
    },
    "executionInfo": {
     "elapsed": 306,
     "status": "ok",
     "timestamp": 1739859025727,
     "user": {
      "displayName": "Anika Priodorshinee Mrittika",
      "userId": "18201477252200877005"
     },
     "user_tz": -360
    },
    "id": "HwYYLGfkBceg",
    "outputId": "277ed57f-5bb4-43e2-c3e8-a720201914eb"
   },
   "outputs": [
    {
     "name": "stdout",
     "output_type": "stream",
     "text": [
      "[[False False  True]\n",
      " [ True  True  True]]\n"
     ]
    }
   ],
   "source": [
    "#Logical indexing - Identify which elements fulfill the constraint\n",
    "b = np.array([[1,2,3],[4,5,6]])\n",
    "print(b > 2)"
   ]
  },
  {
   "cell_type": "code",
   "execution_count": 60,
   "metadata": {
    "colab": {
     "base_uri": "https://localhost:8080/"
    },
    "executionInfo": {
     "elapsed": 2,
     "status": "ok",
     "timestamp": 1739859027058,
     "user": {
      "displayName": "Anika Priodorshinee Mrittika",
      "userId": "18201477252200877005"
     },
     "user_tz": -360
    },
    "id": "u01huVcQBeXf",
    "outputId": "c32475f4-c816-4d59-ac34-8fc772ed1722"
   },
   "outputs": [
    {
     "name": "stdout",
     "output_type": "stream",
     "text": [
      "[3 4 5 6]\n"
     ]
    }
   ],
   "source": [
    "print(b[ b > 2 ])       #Extract the elements that fulfill the constraint"
   ]
  },
  {
   "cell_type": "code",
   "execution_count": 61,
   "metadata": {
    "colab": {
     "base_uri": "https://localhost:8080/"
    },
    "executionInfo": {
     "elapsed": 1,
     "status": "ok",
     "timestamp": 1739859027396,
     "user": {
      "displayName": "Anika Priodorshinee Mrittika",
      "userId": "18201477252200877005"
     },
     "user_tz": -360
    },
    "id": "VPG8dYD5JE0J",
    "outputId": "5541d6ef-11bb-491b-ba82-ead14ca13a58"
   },
   "outputs": [
    {
     "name": "stdout",
     "output_type": "stream",
     "text": [
      "[[  1   2 100]\n",
      " [100 100 100]]\n"
     ]
    }
   ],
   "source": [
    "b[ b > 2 ] = 100      #Replace where the constraints are fulfilled\n",
    "print(b)"
   ]
  },
  {
   "cell_type": "code",
   "execution_count": null,
   "metadata": {
    "executionInfo": {
     "elapsed": 12679,
     "status": "aborted",
     "timestamp": 1739858949968,
     "user": {
      "displayName": "Anika Priodorshinee Mrittika",
      "userId": "18201477252200877005"
     },
     "user_tz": -360
    },
    "id": "nFu_IeI1Bfhk"
   },
   "outputs": [],
   "source": [
    "#Iterating\n",
    "arr = np.array([1, 2, 3])\n",
    "for x in arr:\n",
    "  print(x)"
   ]
  },
  {
   "cell_type": "code",
   "execution_count": null,
   "metadata": {
    "executionInfo": {
     "elapsed": 12679,
     "status": "aborted",
     "timestamp": 1739858949968,
     "user": {
      "displayName": "Anika Priodorshinee Mrittika",
      "userId": "18201477252200877005"
     },
     "user_tz": -360
    },
    "id": "iz6LJn_XJn81"
   },
   "outputs": [],
   "source": [
    "#Print row by row\n",
    "arr = np.array([[1, 2, 3],\n",
    "                [4, 5, 6]])\n",
    "for x in arr:\n",
    "  print(x)"
   ]
  },
  {
   "cell_type": "code",
   "execution_count": null,
   "metadata": {
    "executionInfo": {
     "elapsed": 12679,
     "status": "aborted",
     "timestamp": 1739858949968,
     "user": {
      "displayName": "Anika Priodorshinee Mrittika",
      "userId": "18201477252200877005"
     },
     "user_tz": -360
    },
    "id": "Sn4FPAkrJpsB"
   },
   "outputs": [],
   "source": [
    "#Print element by element\n",
    "arr = np.array([[1, 2, 3], [4, 5, 6]])\n",
    "for x in arr:\n",
    "  for y in x:\n",
    "    print(y)"
   ]
  },
  {
   "cell_type": "code",
   "execution_count": 83,
   "metadata": {
    "colab": {
     "base_uri": "https://localhost:8080/"
    },
    "executionInfo": {
     "elapsed": 432,
     "status": "ok",
     "timestamp": 1739863151661,
     "user": {
      "displayName": "Anika Priodorshinee Mrittika",
      "userId": "18201477252200877005"
     },
     "user_tz": -360
    },
    "id": "fRr6gVT3Bhbv",
    "outputId": "eeac4863-caab-432b-fab0-06c0319a1527"
   },
   "outputs": [
    {
     "name": "stdout",
     "output_type": "stream",
     "text": [
      "[  0.          33.33333333  66.66666667 100.        ]\n"
     ]
    }
   ],
   "source": [
    "#linspace - Create a random array, same difference between the numbers\n",
    "x = np.linspace(0, 100, 4)     #start, end, how many numbers\n",
    "print(x)"
   ]
  },
  {
   "cell_type": "code",
   "execution_count": 10,
   "metadata": {
    "colab": {
     "base_uri": "https://localhost:8080/"
    },
    "executionInfo": {
     "elapsed": 337,
     "status": "ok",
     "timestamp": 1739859090300,
     "user": {
      "displayName": "Anika Priodorshinee Mrittika",
      "userId": "18201477252200877005"
     },
     "user_tz": -360
    },
    "id": "mGwVVGoUK9Lq",
    "outputId": "25efee60-2fe2-4990-8bb1-78b9ee75a5b8"
   },
   "outputs": [
    {
     "name": "stdout",
     "output_type": "stream",
     "text": [
      "[ 0.    1.25  2.5   3.75  5.    6.25  7.5   8.75 10.  ]\n"
     ]
    }
   ],
   "source": [
    "x = np.linspace(0, 10, 9)     #No 9 integer values of same difference between 0 - 10\n",
    "print(x)"
   ]
  },
  {
   "cell_type": "code",
   "execution_count": 67,
   "metadata": {
    "colab": {
     "base_uri": "https://localhost:8080/"
    },
    "executionInfo": {
     "elapsed": 512,
     "status": "ok",
     "timestamp": 1739859093716,
     "user": {
      "displayName": "Anika Priodorshinee Mrittika",
      "userId": "18201477252200877005"
     },
     "user_tz": -360
    },
    "id": "BEcs4AqmBi_Z",
    "outputId": "4c112c6f-80da-4ae1-aa35-c2ca3d421580"
   },
   "outputs": [
    {
     "name": "stdout",
     "output_type": "stream",
     "text": [
      "[10.   11.25 12.5  13.75 15.   16.25 17.5  18.75 20.  ]\n"
     ]
    }
   ],
   "source": [
    "#Element wise operation - same operation on every element at a time\n",
    "\n",
    "print(x + 10)"
   ]
  },
  {
   "cell_type": "code",
   "execution_count": 68,
   "metadata": {
    "colab": {
     "base_uri": "https://localhost:8080/"
    },
    "executionInfo": {
     "elapsed": 334,
     "status": "ok",
     "timestamp": 1739859101249,
     "user": {
      "displayName": "Anika Priodorshinee Mrittika",
      "userId": "18201477252200877005"
     },
     "user_tz": -360
    },
    "id": "HO4eH7D6BkjU",
    "outputId": "152568c4-a58b-419c-a418-0bf2657f2d0f"
   },
   "outputs": [
    {
     "name": "stdout",
     "output_type": "stream",
     "text": [
      "[ 1  4  9 16]\n",
      "[12 14 26 38]\n"
     ]
    }
   ],
   "source": [
    "y = np.array([1, 2, 3, 4])\n",
    "z = np.array([10, 10, 20, 30])\n",
    "\n",
    "print(y ** 2)\n",
    "print(2*y + z)"
   ]
  },
  {
   "cell_type": "markdown",
   "metadata": {
    "id": "Ra14o9NoMGfg"
   },
   "source": [
    "# Pandas\n",
    "* A Python library\n",
    "* Used to analyze and manipulate data"
   ]
  },
  {
   "cell_type": "markdown",
   "metadata": {
    "id": "drUWRZ-TTP3Z"
   },
   "source": [
    "# Data Analysis"
   ]
  },
  {
   "cell_type": "code",
   "execution_count": 3,
   "metadata": {},
   "outputs": [
    {
     "name": "stdout",
     "output_type": "stream",
     "text": [
      "Collecting pandas\n",
      "  Downloading pandas-2.2.3-cp311-cp311-win_amd64.whl.metadata (19 kB)\n",
      "Requirement already satisfied: numpy>=1.23.2 in c:\\users\\sohanur rahman shimu\\appdata\\local\\packages\\pythonsoftwarefoundation.python.3.11_qbz5n2kfra8p0\\localcache\\local-packages\\python311\\site-packages (from pandas) (2.2.3)\n",
      "Requirement already satisfied: python-dateutil>=2.8.2 in c:\\users\\sohanur rahman shimu\\appdata\\local\\packages\\pythonsoftwarefoundation.python.3.11_qbz5n2kfra8p0\\localcache\\local-packages\\python311\\site-packages (from pandas) (2.9.0.post0)\n",
      "Collecting pytz>=2020.1 (from pandas)\n",
      "  Using cached pytz-2025.1-py2.py3-none-any.whl.metadata (22 kB)\n",
      "Collecting tzdata>=2022.7 (from pandas)\n",
      "  Using cached tzdata-2025.1-py2.py3-none-any.whl.metadata (1.4 kB)\n",
      "Requirement already satisfied: six>=1.5 in c:\\users\\sohanur rahman shimu\\appdata\\local\\packages\\pythonsoftwarefoundation.python.3.11_qbz5n2kfra8p0\\localcache\\local-packages\\python311\\site-packages (from python-dateutil>=2.8.2->pandas) (1.17.0)\n",
      "Downloading pandas-2.2.3-cp311-cp311-win_amd64.whl (11.6 MB)\n",
      "   ---------------------------------------- 0.0/11.6 MB ? eta -:--:--\n",
      "   ---------------------------------------- 0.0/11.6 MB ? eta -:--:--\n",
      "   ---------------------------------------- 0.0/11.6 MB 435.7 kB/s eta 0:00:27\n",
      "   ---------------------------------------- 0.1/11.6 MB 491.5 kB/s eta 0:00:24\n",
      "   ---------------------------------------- 0.1/11.6 MB 717.5 kB/s eta 0:00:17\n",
      "    --------------------------------------- 0.3/11.6 MB 1.1 MB/s eta 0:00:11\n",
      "   - -------------------------------------- 0.4/11.6 MB 1.6 MB/s eta 0:00:07\n",
      "   -- ------------------------------------- 0.8/11.6 MB 2.7 MB/s eta 0:00:05\n",
      "   --- ------------------------------------ 1.0/11.6 MB 3.2 MB/s eta 0:00:04\n",
      "   ----- ---------------------------------- 1.6/11.6 MB 3.9 MB/s eta 0:00:03\n",
      "   ------- -------------------------------- 2.3/11.6 MB 5.0 MB/s eta 0:00:02\n",
      "   ----------- ---------------------------- 3.2/11.6 MB 6.6 MB/s eta 0:00:02\n",
      "   -------------- ------------------------- 4.2/11.6 MB 7.6 MB/s eta 0:00:01\n",
      "   ------------------ --------------------- 5.4/11.6 MB 9.0 MB/s eta 0:00:01\n",
      "   ---------------------- ----------------- 6.4/11.6 MB 10.2 MB/s eta 0:00:01\n",
      "   ------------------------- -------------- 7.3/11.6 MB 10.9 MB/s eta 0:00:01\n",
      "   --------------------------- ------------ 7.9/11.6 MB 11.0 MB/s eta 0:00:01\n",
      "   ---------------------------------- ----- 9.9/11.6 MB 12.9 MB/s eta 0:00:01\n",
      "   ------------------------------------- -- 10.8/11.6 MB 20.5 MB/s eta 0:00:01\n",
      "   -------------------------------------- - 11.1/11.6 MB 18.7 MB/s eta 0:00:01\n",
      "   ---------------------------------------  11.6/11.6 MB 21.1 MB/s eta 0:00:01\n",
      "   ---------------------------------------- 11.6/11.6 MB 19.3 MB/s eta 0:00:00\n",
      "Using cached pytz-2025.1-py2.py3-none-any.whl (507 kB)\n",
      "Using cached tzdata-2025.1-py2.py3-none-any.whl (346 kB)\n",
      "Installing collected packages: pytz, tzdata, pandas\n",
      "Successfully installed pandas-2.2.3 pytz-2025.1 tzdata-2025.1\n",
      "Note: you may need to restart the kernel to use updated packages.\n"
     ]
    },
    {
     "name": "stderr",
     "output_type": "stream",
     "text": [
      "\n",
      "[notice] A new release of pip is available: 24.0 -> 25.0.1\n",
      "[notice] To update, run: C:\\Users\\Sohanur Rahman Shimu\\AppData\\Local\\Microsoft\\WindowsApps\\PythonSoftwareFoundation.Python.3.11_qbz5n2kfra8p0\\python.exe -m pip install --upgrade pip\n"
     ]
    }
   ],
   "source": [
    "pip install pandas"
   ]
  },
  {
   "cell_type": "code",
   "execution_count": 4,
   "metadata": {
    "executionInfo": {
     "elapsed": 12669,
     "status": "aborted",
     "timestamp": 1739858949968,
     "user": {
      "displayName": "Anika Priodorshinee Mrittika",
      "userId": "18201477252200877005"
     },
     "user_tz": -360
    },
    "id": "ZoKFnECfMRTa"
   },
   "outputs": [],
   "source": [
    "import pandas as pd"
   ]
  },
  {
   "cell_type": "code",
   "execution_count": 5,
   "metadata": {
    "executionInfo": {
     "elapsed": 12667,
     "status": "aborted",
     "timestamp": 1739858949968,
     "user": {
      "displayName": "Anika Priodorshinee Mrittika",
      "userId": "18201477252200877005"
     },
     "user_tz": -360
    },
    "id": "pRf-NhbpQI43"
   },
   "outputs": [
    {
     "name": "stdout",
     "output_type": "stream",
     "text": [
      "    Name  Age\n",
      "0   Arif   35\n",
      "1  Nafis   30\n",
      "2  Hasan   40\n"
     ]
    }
   ],
   "source": [
    "data = {\n",
    "  \"Name\": ['Arif', 'Nafis', 'Hasan'],\n",
    "  \"Age\": [35, 30, 40]\n",
    "}\n",
    "\n",
    "#load data into a DataFrame [Formated data; 2 Dimensional Data Structure]\n",
    "df = pd.DataFrame(data)\n",
    "\n",
    "print(df)\n"
   ]
  },
  {
   "cell_type": "code",
   "execution_count": null,
   "metadata": {
    "executionInfo": {
     "elapsed": 12666,
     "status": "aborted",
     "timestamp": 1739858949968,
     "user": {
      "displayName": "Anika Priodorshinee Mrittika",
      "userId": "18201477252200877005"
     },
     "user_tz": -360
    },
    "id": "h7LaM2WkQO5j"
   },
   "outputs": [],
   "source": [
    "#loc attribute - accessing the dataframe values\n",
    "print(df.loc[0])"
   ]
  },
  {
   "cell_type": "code",
   "execution_count": null,
   "metadata": {
    "executionInfo": {
     "elapsed": 12664,
     "status": "aborted",
     "timestamp": 1739858949968,
     "user": {
      "displayName": "Anika Priodorshinee Mrittika",
      "userId": "18201477252200877005"
     },
     "user_tz": -360
    },
    "id": "2z-_cHjHQPeu"
   },
   "outputs": [],
   "source": [
    "#Read csv\n",
    "df = pd.read_csv('lab1_data.csv')\n",
    "print (df)          #Show first 5 and last 5 entries"
   ]
  },
  {
   "cell_type": "code",
   "execution_count": null,
   "metadata": {
    "executionInfo": {
     "elapsed": 12663,
     "status": "aborted",
     "timestamp": 1739858949969,
     "user": {
      "displayName": "Anika Priodorshinee Mrittika",
      "userId": "18201477252200877005"
     },
     "user_tz": -360
    },
    "id": "Ow2K6pr5R_pg"
   },
   "outputs": [],
   "source": [
    "print (df.to_string())        #Show all entries"
   ]
  },
  {
   "cell_type": "code",
   "execution_count": null,
   "metadata": {
    "executionInfo": {
     "elapsed": 12661,
     "status": "aborted",
     "timestamp": 1739858949969,
     "user": {
      "displayName": "Anika Priodorshinee Mrittika",
      "userId": "18201477252200877005"
     },
     "user_tz": -360
    },
    "id": "jO9jmWFGQRBd"
   },
   "outputs": [],
   "source": [
    "#Analyzing data\n",
    "print(df.head(10))        #Show first N entries"
   ]
  },
  {
   "cell_type": "code",
   "execution_count": null,
   "metadata": {
    "executionInfo": {
     "elapsed": 12659,
     "status": "aborted",
     "timestamp": 1739858949969,
     "user": {
      "displayName": "Anika Priodorshinee Mrittika",
      "userId": "18201477252200877005"
     },
     "user_tz": -360
    },
    "id": "5Eil_B5USTJj"
   },
   "outputs": [],
   "source": [
    "print(df.tail())          #Show last 5 entries"
   ]
  },
  {
   "cell_type": "code",
   "execution_count": null,
   "metadata": {
    "executionInfo": {
     "elapsed": 12657,
     "status": "aborted",
     "timestamp": 1739858949969,
     "user": {
      "displayName": "Anika Priodorshinee Mrittika",
      "userId": "18201477252200877005"
     },
     "user_tz": -360
    },
    "id": "C74DjF0AQSXb"
   },
   "outputs": [],
   "source": [
    "print(df.info())          #Information summary of all datas"
   ]
  },
  {
   "cell_type": "code",
   "execution_count": null,
   "metadata": {
    "executionInfo": {
     "elapsed": 12655,
     "status": "aborted",
     "timestamp": 1739858949969,
     "user": {
      "displayName": "Anika Priodorshinee Mrittika",
      "userId": "18201477252200877005"
     },
     "user_tz": -360
    },
    "id": "MNVWV_FUSe3s"
   },
   "outputs": [],
   "source": [
    "print(df.describe())        #More detailed information of all datas"
   ]
  },
  {
   "cell_type": "code",
   "execution_count": null,
   "metadata": {
    "executionInfo": {
     "elapsed": 3,
     "status": "aborted",
     "timestamp": 1739858950607,
     "user": {
      "displayName": "Anika Priodorshinee Mrittika",
      "userId": "18201477252200877005"
     },
     "user_tz": -360
    },
    "id": "rQdYGveiQTw7"
   },
   "outputs": [],
   "source": [
    "#Information of a specific column\n",
    "print(df[\"Calories\"].mean())\n",
    "print(df[\"Calories\"].median())\n",
    "print(df[\"Calories\"].mode())"
   ]
  },
  {
   "cell_type": "markdown",
   "metadata": {
    "id": "wRbuXv01QbPi"
   },
   "source": [
    "#Data Cleaning"
   ]
  },
  {
   "cell_type": "code",
   "execution_count": 8,
   "metadata": {
    "executionInfo": {
     "elapsed": 3,
     "status": "aborted",
     "timestamp": 1739858950607,
     "user": {
      "displayName": "Anika Priodorshinee Mrittika",
      "userId": "18201477252200877005"
     },
     "user_tz": -360
    },
    "id": "oDctIPaLQcHu"
   },
   "outputs": [
    {
     "name": "stdout",
     "output_type": "stream",
     "text": [
      "    Name  Age\n",
      "0   Arif   35\n",
      "1  Nafis   30\n",
      "2  Hasan   40\n"
     ]
    }
   ],
   "source": [
    "#Drop rows with empty cells. Return a new Data Frame.\n",
    "new_df = df.dropna()\n",
    "print(new_df.to_string())"
   ]
  },
  {
   "cell_type": "code",
   "execution_count": 9,
   "metadata": {
    "executionInfo": {
     "elapsed": 3,
     "status": "aborted",
     "timestamp": 1739858950607,
     "user": {
      "displayName": "Anika Priodorshinee Mrittika",
      "userId": "18201477252200877005"
     },
     "user_tz": -360
    },
    "id": "YPD1xdsPQdo5"
   },
   "outputs": [
    {
     "name": "stdout",
     "output_type": "stream",
     "text": [
      "    Name  Age\n",
      "0   Arif   35\n",
      "1  Nafis   30\n",
      "2  Hasan   40\n"
     ]
    }
   ],
   "source": [
    "#Replace NULL values with the mean value = 375\n",
    "df.fillna(375, inplace = True)        #Inplace - Changes saved in the same Dataframe\n",
    "print(df.to_string())"
   ]
  },
  {
   "cell_type": "code",
   "execution_count": 10,
   "metadata": {
    "executionInfo": {
     "elapsed": 3,
     "status": "aborted",
     "timestamp": 1739858950607,
     "user": {
      "displayName": "Anika Priodorshinee Mrittika",
      "userId": "18201477252200877005"
     },
     "user_tz": -360
    },
    "id": "cQdnfuyZQe8w"
   },
   "outputs": [
    {
     "name": "stdout",
     "output_type": "stream",
     "text": [
      "    Name   Age  Pulse\n",
      "0   Arif  35.0    NaN\n",
      "1  Nafis  30.0    NaN\n",
      "2  Hasan  40.0    NaN\n",
      "5    NaN   NaN   45.0\n"
     ]
    }
   ],
   "source": [
    "#Update data\n",
    "df.loc[5, 'Pulse'] = 45\n",
    "\n",
    "print(df.to_string())"
   ]
  },
  {
   "cell_type": "code",
   "execution_count": 11,
   "metadata": {
    "executionInfo": {
     "elapsed": 3,
     "status": "aborted",
     "timestamp": 1739858950607,
     "user": {
      "displayName": "Anika Priodorshinee Mrittika",
      "userId": "18201477252200877005"
     },
     "user_tz": -360
    },
    "id": "geCGTtZUQgYt"
   },
   "outputs": [
    {
     "name": "stdout",
     "output_type": "stream",
     "text": [
      "0    False\n",
      "1    False\n",
      "2    False\n",
      "5    False\n"
     ]
    }
   ],
   "source": [
    "#Duplicate data finding\n",
    "print(df.duplicated().to_string())      #False - Unique, True - Duplicate values"
   ]
  },
  {
   "cell_type": "code",
   "execution_count": 12,
   "metadata": {
    "executionInfo": {
     "elapsed": 3,
     "status": "aborted",
     "timestamp": 1739858950607,
     "user": {
      "displayName": "Anika Priodorshinee Mrittika",
      "userId": "18201477252200877005"
     },
     "user_tz": -360
    },
    "id": "if4uZhuTQhrC"
   },
   "outputs": [
    {
     "name": "stdout",
     "output_type": "stream",
     "text": [
      "0    False\n",
      "1    False\n",
      "2    False\n",
      "5    False\n"
     ]
    }
   ],
   "source": [
    "#Drop duplicate data\n",
    "df.drop_duplicates(inplace = True)\n",
    "print(df.duplicated().to_string())"
   ]
  },
  {
   "cell_type": "code",
   "execution_count": 13,
   "metadata": {
    "executionInfo": {
     "elapsed": 3,
     "status": "aborted",
     "timestamp": 1739858950607,
     "user": {
      "displayName": "Anika Priodorshinee Mrittika",
      "userId": "18201477252200877005"
     },
     "user_tz": -360
    },
    "id": "pV5pyVPIQjKv"
   },
   "outputs": [
    {
     "ename": "ValueError",
     "evalue": "could not convert string to float: 'Arif'",
     "output_type": "error",
     "traceback": [
      "\u001b[1;31m---------------------------------------------------------------------------\u001b[0m",
      "\u001b[1;31mValueError\u001b[0m                                Traceback (most recent call last)",
      "Cell \u001b[1;32mIn[13], line 2\u001b[0m\n\u001b[0;32m      1\u001b[0m \u001b[38;5;66;03m#correlation\u001b[39;00m\n\u001b[1;32m----> 2\u001b[0m \u001b[43mdf\u001b[49m\u001b[38;5;241;43m.\u001b[39;49m\u001b[43mcorr\u001b[49m\u001b[43m(\u001b[49m\u001b[43m)\u001b[49m       \u001b[38;5;66;03m# 0 - No relation, 1 - Strongly correlated, -1 - Strongly correlated but adversely\u001b[39;00m\n",
      "File \u001b[1;32m~\\AppData\\Local\\Packages\\PythonSoftwareFoundation.Python.3.11_qbz5n2kfra8p0\\LocalCache\\local-packages\\Python311\\site-packages\\pandas\\core\\frame.py:11049\u001b[0m, in \u001b[0;36mDataFrame.corr\u001b[1;34m(self, method, min_periods, numeric_only)\u001b[0m\n\u001b[0;32m  11047\u001b[0m cols \u001b[38;5;241m=\u001b[39m data\u001b[38;5;241m.\u001b[39mcolumns\n\u001b[0;32m  11048\u001b[0m idx \u001b[38;5;241m=\u001b[39m cols\u001b[38;5;241m.\u001b[39mcopy()\n\u001b[1;32m> 11049\u001b[0m mat \u001b[38;5;241m=\u001b[39m \u001b[43mdata\u001b[49m\u001b[38;5;241;43m.\u001b[39;49m\u001b[43mto_numpy\u001b[49m\u001b[43m(\u001b[49m\u001b[43mdtype\u001b[49m\u001b[38;5;241;43m=\u001b[39;49m\u001b[38;5;28;43mfloat\u001b[39;49m\u001b[43m,\u001b[49m\u001b[43m \u001b[49m\u001b[43mna_value\u001b[49m\u001b[38;5;241;43m=\u001b[39;49m\u001b[43mnp\u001b[49m\u001b[38;5;241;43m.\u001b[39;49m\u001b[43mnan\u001b[49m\u001b[43m,\u001b[49m\u001b[43m \u001b[49m\u001b[43mcopy\u001b[49m\u001b[38;5;241;43m=\u001b[39;49m\u001b[38;5;28;43;01mFalse\u001b[39;49;00m\u001b[43m)\u001b[49m\n\u001b[0;32m  11051\u001b[0m \u001b[38;5;28;01mif\u001b[39;00m method \u001b[38;5;241m==\u001b[39m \u001b[38;5;124m\"\u001b[39m\u001b[38;5;124mpearson\u001b[39m\u001b[38;5;124m\"\u001b[39m:\n\u001b[0;32m  11052\u001b[0m     correl \u001b[38;5;241m=\u001b[39m libalgos\u001b[38;5;241m.\u001b[39mnancorr(mat, minp\u001b[38;5;241m=\u001b[39mmin_periods)\n",
      "File \u001b[1;32m~\\AppData\\Local\\Packages\\PythonSoftwareFoundation.Python.3.11_qbz5n2kfra8p0\\LocalCache\\local-packages\\Python311\\site-packages\\pandas\\core\\frame.py:1993\u001b[0m, in \u001b[0;36mDataFrame.to_numpy\u001b[1;34m(self, dtype, copy, na_value)\u001b[0m\n\u001b[0;32m   1991\u001b[0m \u001b[38;5;28;01mif\u001b[39;00m dtype \u001b[38;5;129;01mis\u001b[39;00m \u001b[38;5;129;01mnot\u001b[39;00m \u001b[38;5;28;01mNone\u001b[39;00m:\n\u001b[0;32m   1992\u001b[0m     dtype \u001b[38;5;241m=\u001b[39m np\u001b[38;5;241m.\u001b[39mdtype(dtype)\n\u001b[1;32m-> 1993\u001b[0m result \u001b[38;5;241m=\u001b[39m \u001b[38;5;28;43mself\u001b[39;49m\u001b[38;5;241;43m.\u001b[39;49m\u001b[43m_mgr\u001b[49m\u001b[38;5;241;43m.\u001b[39;49m\u001b[43mas_array\u001b[49m\u001b[43m(\u001b[49m\u001b[43mdtype\u001b[49m\u001b[38;5;241;43m=\u001b[39;49m\u001b[43mdtype\u001b[49m\u001b[43m,\u001b[49m\u001b[43m \u001b[49m\u001b[43mcopy\u001b[49m\u001b[38;5;241;43m=\u001b[39;49m\u001b[43mcopy\u001b[49m\u001b[43m,\u001b[49m\u001b[43m \u001b[49m\u001b[43mna_value\u001b[49m\u001b[38;5;241;43m=\u001b[39;49m\u001b[43mna_value\u001b[49m\u001b[43m)\u001b[49m\n\u001b[0;32m   1994\u001b[0m \u001b[38;5;28;01mif\u001b[39;00m result\u001b[38;5;241m.\u001b[39mdtype \u001b[38;5;129;01mis\u001b[39;00m \u001b[38;5;129;01mnot\u001b[39;00m dtype:\n\u001b[0;32m   1995\u001b[0m     result \u001b[38;5;241m=\u001b[39m np\u001b[38;5;241m.\u001b[39masarray(result, dtype\u001b[38;5;241m=\u001b[39mdtype)\n",
      "File \u001b[1;32m~\\AppData\\Local\\Packages\\PythonSoftwareFoundation.Python.3.11_qbz5n2kfra8p0\\LocalCache\\local-packages\\Python311\\site-packages\\pandas\\core\\internals\\managers.py:1694\u001b[0m, in \u001b[0;36mBlockManager.as_array\u001b[1;34m(self, dtype, copy, na_value)\u001b[0m\n\u001b[0;32m   1692\u001b[0m         arr\u001b[38;5;241m.\u001b[39mflags\u001b[38;5;241m.\u001b[39mwriteable \u001b[38;5;241m=\u001b[39m \u001b[38;5;28;01mFalse\u001b[39;00m\n\u001b[0;32m   1693\u001b[0m \u001b[38;5;28;01melse\u001b[39;00m:\n\u001b[1;32m-> 1694\u001b[0m     arr \u001b[38;5;241m=\u001b[39m \u001b[38;5;28;43mself\u001b[39;49m\u001b[38;5;241;43m.\u001b[39;49m\u001b[43m_interleave\u001b[49m\u001b[43m(\u001b[49m\u001b[43mdtype\u001b[49m\u001b[38;5;241;43m=\u001b[39;49m\u001b[43mdtype\u001b[49m\u001b[43m,\u001b[49m\u001b[43m \u001b[49m\u001b[43mna_value\u001b[49m\u001b[38;5;241;43m=\u001b[39;49m\u001b[43mna_value\u001b[49m\u001b[43m)\u001b[49m\n\u001b[0;32m   1695\u001b[0m     \u001b[38;5;66;03m# The underlying data was copied within _interleave, so no need\u001b[39;00m\n\u001b[0;32m   1696\u001b[0m     \u001b[38;5;66;03m# to further copy if copy=True or setting na_value\u001b[39;00m\n\u001b[0;32m   1698\u001b[0m \u001b[38;5;28;01mif\u001b[39;00m na_value \u001b[38;5;129;01mis\u001b[39;00m lib\u001b[38;5;241m.\u001b[39mno_default:\n",
      "File \u001b[1;32m~\\AppData\\Local\\Packages\\PythonSoftwareFoundation.Python.3.11_qbz5n2kfra8p0\\LocalCache\\local-packages\\Python311\\site-packages\\pandas\\core\\internals\\managers.py:1753\u001b[0m, in \u001b[0;36mBlockManager._interleave\u001b[1;34m(self, dtype, na_value)\u001b[0m\n\u001b[0;32m   1751\u001b[0m     \u001b[38;5;28;01melse\u001b[39;00m:\n\u001b[0;32m   1752\u001b[0m         arr \u001b[38;5;241m=\u001b[39m blk\u001b[38;5;241m.\u001b[39mget_values(dtype)\n\u001b[1;32m-> 1753\u001b[0m     \u001b[43mresult\u001b[49m\u001b[43m[\u001b[49m\u001b[43mrl\u001b[49m\u001b[38;5;241;43m.\u001b[39;49m\u001b[43mindexer\u001b[49m\u001b[43m]\u001b[49m \u001b[38;5;241m=\u001b[39m arr\n\u001b[0;32m   1754\u001b[0m     itemmask[rl\u001b[38;5;241m.\u001b[39mindexer] \u001b[38;5;241m=\u001b[39m \u001b[38;5;241m1\u001b[39m\n\u001b[0;32m   1756\u001b[0m \u001b[38;5;28;01mif\u001b[39;00m \u001b[38;5;129;01mnot\u001b[39;00m itemmask\u001b[38;5;241m.\u001b[39mall():\n",
      "\u001b[1;31mValueError\u001b[0m: could not convert string to float: 'Arif'"
     ]
    }
   ],
   "source": [
    "#correlation\n",
    "df.corr()       # 0 - No relation, 1 - Strongly correlated, -1 - Strongly correlated but adversely"
   ]
  },
  {
   "cell_type": "markdown",
   "metadata": {
    "id": "tiaqzHNAYEYM"
   },
   "source": [
    "#Data Visualisation"
   ]
  },
  {
   "cell_type": "code",
   "execution_count": 7,
   "metadata": {
    "executionInfo": {
     "elapsed": 3,
     "status": "aborted",
     "timestamp": 1739858950607,
     "user": {
      "displayName": "Anika Priodorshinee Mrittika",
      "userId": "18201477252200877005"
     },
     "user_tz": -360
    },
    "id": "SG2F2MAoQkUj"
   },
   "outputs": [
    {
     "ename": "ImportError",
     "evalue": "matplotlib is required for plotting when the default backend \"matplotlib\" is selected.",
     "output_type": "error",
     "traceback": [
      "\u001b[1;31m---------------------------------------------------------------------------\u001b[0m",
      "\u001b[1;31mImportError\u001b[0m                               Traceback (most recent call last)",
      "Cell \u001b[1;32mIn[7], line 2\u001b[0m\n\u001b[0;32m      1\u001b[0m \u001b[38;5;66;03m#plot data\u001b[39;00m\n\u001b[1;32m----> 2\u001b[0m \u001b[43mdf\u001b[49m\u001b[38;5;241;43m.\u001b[39;49m\u001b[43mplot\u001b[49m\u001b[43m(\u001b[49m\u001b[43m)\u001b[49m\n",
      "File \u001b[1;32m~\\AppData\\Local\\Packages\\PythonSoftwareFoundation.Python.3.11_qbz5n2kfra8p0\\LocalCache\\local-packages\\Python311\\site-packages\\pandas\\plotting\\_core.py:947\u001b[0m, in \u001b[0;36mPlotAccessor.__call__\u001b[1;34m(self, *args, **kwargs)\u001b[0m\n\u001b[0;32m    946\u001b[0m \u001b[38;5;28;01mdef\u001b[39;00m\u001b[38;5;250m \u001b[39m\u001b[38;5;21m__call__\u001b[39m(\u001b[38;5;28mself\u001b[39m, \u001b[38;5;241m*\u001b[39margs, \u001b[38;5;241m*\u001b[39m\u001b[38;5;241m*\u001b[39mkwargs):\n\u001b[1;32m--> 947\u001b[0m     plot_backend \u001b[38;5;241m=\u001b[39m \u001b[43m_get_plot_backend\u001b[49m\u001b[43m(\u001b[49m\u001b[43mkwargs\u001b[49m\u001b[38;5;241;43m.\u001b[39;49m\u001b[43mpop\u001b[49m\u001b[43m(\u001b[49m\u001b[38;5;124;43m\"\u001b[39;49m\u001b[38;5;124;43mbackend\u001b[39;49m\u001b[38;5;124;43m\"\u001b[39;49m\u001b[43m,\u001b[49m\u001b[43m \u001b[49m\u001b[38;5;28;43;01mNone\u001b[39;49;00m\u001b[43m)\u001b[49m\u001b[43m)\u001b[49m\n\u001b[0;32m    949\u001b[0m     x, y, kind, kwargs \u001b[38;5;241m=\u001b[39m \u001b[38;5;28mself\u001b[39m\u001b[38;5;241m.\u001b[39m_get_call_args(\n\u001b[0;32m    950\u001b[0m         plot_backend\u001b[38;5;241m.\u001b[39m\u001b[38;5;18m__name__\u001b[39m, \u001b[38;5;28mself\u001b[39m\u001b[38;5;241m.\u001b[39m_parent, args, kwargs\n\u001b[0;32m    951\u001b[0m     )\n\u001b[0;32m    953\u001b[0m     kind \u001b[38;5;241m=\u001b[39m \u001b[38;5;28mself\u001b[39m\u001b[38;5;241m.\u001b[39m_kind_aliases\u001b[38;5;241m.\u001b[39mget(kind, kind)\n",
      "File \u001b[1;32m~\\AppData\\Local\\Packages\\PythonSoftwareFoundation.Python.3.11_qbz5n2kfra8p0\\LocalCache\\local-packages\\Python311\\site-packages\\pandas\\plotting\\_core.py:1944\u001b[0m, in \u001b[0;36m_get_plot_backend\u001b[1;34m(backend)\u001b[0m\n\u001b[0;32m   1941\u001b[0m \u001b[38;5;28;01mif\u001b[39;00m backend_str \u001b[38;5;129;01min\u001b[39;00m _backends:\n\u001b[0;32m   1942\u001b[0m     \u001b[38;5;28;01mreturn\u001b[39;00m _backends[backend_str]\n\u001b[1;32m-> 1944\u001b[0m module \u001b[38;5;241m=\u001b[39m \u001b[43m_load_backend\u001b[49m\u001b[43m(\u001b[49m\u001b[43mbackend_str\u001b[49m\u001b[43m)\u001b[49m\n\u001b[0;32m   1945\u001b[0m _backends[backend_str] \u001b[38;5;241m=\u001b[39m module\n\u001b[0;32m   1946\u001b[0m \u001b[38;5;28;01mreturn\u001b[39;00m module\n",
      "File \u001b[1;32m~\\AppData\\Local\\Packages\\PythonSoftwareFoundation.Python.3.11_qbz5n2kfra8p0\\LocalCache\\local-packages\\Python311\\site-packages\\pandas\\plotting\\_core.py:1874\u001b[0m, in \u001b[0;36m_load_backend\u001b[1;34m(backend)\u001b[0m\n\u001b[0;32m   1872\u001b[0m         module \u001b[38;5;241m=\u001b[39m importlib\u001b[38;5;241m.\u001b[39mimport_module(\u001b[38;5;124m\"\u001b[39m\u001b[38;5;124mpandas.plotting._matplotlib\u001b[39m\u001b[38;5;124m\"\u001b[39m)\n\u001b[0;32m   1873\u001b[0m     \u001b[38;5;28;01mexcept\u001b[39;00m \u001b[38;5;167;01mImportError\u001b[39;00m:\n\u001b[1;32m-> 1874\u001b[0m         \u001b[38;5;28;01mraise\u001b[39;00m \u001b[38;5;167;01mImportError\u001b[39;00m(\n\u001b[0;32m   1875\u001b[0m             \u001b[38;5;124m\"\u001b[39m\u001b[38;5;124mmatplotlib is required for plotting when the \u001b[39m\u001b[38;5;124m\"\u001b[39m\n\u001b[0;32m   1876\u001b[0m             \u001b[38;5;124m'\u001b[39m\u001b[38;5;124mdefault backend \u001b[39m\u001b[38;5;124m\"\u001b[39m\u001b[38;5;124mmatplotlib\u001b[39m\u001b[38;5;124m\"\u001b[39m\u001b[38;5;124m is selected.\u001b[39m\u001b[38;5;124m'\u001b[39m\n\u001b[0;32m   1877\u001b[0m         ) \u001b[38;5;28;01mfrom\u001b[39;00m\u001b[38;5;250m \u001b[39m\u001b[38;5;28;01mNone\u001b[39;00m\n\u001b[0;32m   1878\u001b[0m     \u001b[38;5;28;01mreturn\u001b[39;00m module\n\u001b[0;32m   1880\u001b[0m found_backend \u001b[38;5;241m=\u001b[39m \u001b[38;5;28;01mFalse\u001b[39;00m\n",
      "\u001b[1;31mImportError\u001b[0m: matplotlib is required for plotting when the default backend \"matplotlib\" is selected."
     ]
    }
   ],
   "source": [
    "#plot data\n",
    "df.plot()"
   ]
  },
  {
   "cell_type": "code",
   "execution_count": 14,
   "metadata": {
    "executionInfo": {
     "elapsed": 3,
     "status": "aborted",
     "timestamp": 1739858950607,
     "user": {
      "displayName": "Anika Priodorshinee Mrittika",
      "userId": "18201477252200877005"
     },
     "user_tz": -360
    },
    "id": "oce3BUtwQlz6"
   },
   "outputs": [
    {
     "ename": "ImportError",
     "evalue": "matplotlib is required for plotting when the default backend \"matplotlib\" is selected.",
     "output_type": "error",
     "traceback": [
      "\u001b[1;31m---------------------------------------------------------------------------\u001b[0m",
      "\u001b[1;31mImportError\u001b[0m                               Traceback (most recent call last)",
      "Cell \u001b[1;32mIn[14], line 2\u001b[0m\n\u001b[0;32m      1\u001b[0m \u001b[38;5;66;03m#Customise to make it more understandable\u001b[39;00m\n\u001b[1;32m----> 2\u001b[0m \u001b[43mdf\u001b[49m\u001b[38;5;241;43m.\u001b[39;49m\u001b[43mplot\u001b[49m\u001b[43m(\u001b[49m\u001b[43mkind\u001b[49m\u001b[43m \u001b[49m\u001b[38;5;241;43m=\u001b[39;49m\u001b[43m \u001b[49m\u001b[38;5;124;43m'\u001b[39;49m\u001b[38;5;124;43mscatter\u001b[39;49m\u001b[38;5;124;43m'\u001b[39;49m\u001b[43m,\u001b[49m\u001b[43m \u001b[49m\u001b[43mx\u001b[49m\u001b[43m \u001b[49m\u001b[38;5;241;43m=\u001b[39;49m\u001b[43m \u001b[49m\u001b[38;5;124;43m'\u001b[39;49m\u001b[38;5;124;43mDuration\u001b[39;49m\u001b[38;5;124;43m'\u001b[39;49m\u001b[43m,\u001b[49m\u001b[43m \u001b[49m\u001b[43my\u001b[49m\u001b[43m \u001b[49m\u001b[38;5;241;43m=\u001b[39;49m\u001b[43m \u001b[49m\u001b[38;5;124;43m'\u001b[39;49m\u001b[38;5;124;43mCalories\u001b[39;49m\u001b[38;5;124;43m'\u001b[39;49m\u001b[43m)\u001b[49m\n",
      "File \u001b[1;32m~\\AppData\\Local\\Packages\\PythonSoftwareFoundation.Python.3.11_qbz5n2kfra8p0\\LocalCache\\local-packages\\Python311\\site-packages\\pandas\\plotting\\_core.py:947\u001b[0m, in \u001b[0;36mPlotAccessor.__call__\u001b[1;34m(self, *args, **kwargs)\u001b[0m\n\u001b[0;32m    946\u001b[0m \u001b[38;5;28;01mdef\u001b[39;00m\u001b[38;5;250m \u001b[39m\u001b[38;5;21m__call__\u001b[39m(\u001b[38;5;28mself\u001b[39m, \u001b[38;5;241m*\u001b[39margs, \u001b[38;5;241m*\u001b[39m\u001b[38;5;241m*\u001b[39mkwargs):\n\u001b[1;32m--> 947\u001b[0m     plot_backend \u001b[38;5;241m=\u001b[39m \u001b[43m_get_plot_backend\u001b[49m\u001b[43m(\u001b[49m\u001b[43mkwargs\u001b[49m\u001b[38;5;241;43m.\u001b[39;49m\u001b[43mpop\u001b[49m\u001b[43m(\u001b[49m\u001b[38;5;124;43m\"\u001b[39;49m\u001b[38;5;124;43mbackend\u001b[39;49m\u001b[38;5;124;43m\"\u001b[39;49m\u001b[43m,\u001b[49m\u001b[43m \u001b[49m\u001b[38;5;28;43;01mNone\u001b[39;49;00m\u001b[43m)\u001b[49m\u001b[43m)\u001b[49m\n\u001b[0;32m    949\u001b[0m     x, y, kind, kwargs \u001b[38;5;241m=\u001b[39m \u001b[38;5;28mself\u001b[39m\u001b[38;5;241m.\u001b[39m_get_call_args(\n\u001b[0;32m    950\u001b[0m         plot_backend\u001b[38;5;241m.\u001b[39m\u001b[38;5;18m__name__\u001b[39m, \u001b[38;5;28mself\u001b[39m\u001b[38;5;241m.\u001b[39m_parent, args, kwargs\n\u001b[0;32m    951\u001b[0m     )\n\u001b[0;32m    953\u001b[0m     kind \u001b[38;5;241m=\u001b[39m \u001b[38;5;28mself\u001b[39m\u001b[38;5;241m.\u001b[39m_kind_aliases\u001b[38;5;241m.\u001b[39mget(kind, kind)\n",
      "File \u001b[1;32m~\\AppData\\Local\\Packages\\PythonSoftwareFoundation.Python.3.11_qbz5n2kfra8p0\\LocalCache\\local-packages\\Python311\\site-packages\\pandas\\plotting\\_core.py:1944\u001b[0m, in \u001b[0;36m_get_plot_backend\u001b[1;34m(backend)\u001b[0m\n\u001b[0;32m   1941\u001b[0m \u001b[38;5;28;01mif\u001b[39;00m backend_str \u001b[38;5;129;01min\u001b[39;00m _backends:\n\u001b[0;32m   1942\u001b[0m     \u001b[38;5;28;01mreturn\u001b[39;00m _backends[backend_str]\n\u001b[1;32m-> 1944\u001b[0m module \u001b[38;5;241m=\u001b[39m \u001b[43m_load_backend\u001b[49m\u001b[43m(\u001b[49m\u001b[43mbackend_str\u001b[49m\u001b[43m)\u001b[49m\n\u001b[0;32m   1945\u001b[0m _backends[backend_str] \u001b[38;5;241m=\u001b[39m module\n\u001b[0;32m   1946\u001b[0m \u001b[38;5;28;01mreturn\u001b[39;00m module\n",
      "File \u001b[1;32m~\\AppData\\Local\\Packages\\PythonSoftwareFoundation.Python.3.11_qbz5n2kfra8p0\\LocalCache\\local-packages\\Python311\\site-packages\\pandas\\plotting\\_core.py:1874\u001b[0m, in \u001b[0;36m_load_backend\u001b[1;34m(backend)\u001b[0m\n\u001b[0;32m   1872\u001b[0m         module \u001b[38;5;241m=\u001b[39m importlib\u001b[38;5;241m.\u001b[39mimport_module(\u001b[38;5;124m\"\u001b[39m\u001b[38;5;124mpandas.plotting._matplotlib\u001b[39m\u001b[38;5;124m\"\u001b[39m)\n\u001b[0;32m   1873\u001b[0m     \u001b[38;5;28;01mexcept\u001b[39;00m \u001b[38;5;167;01mImportError\u001b[39;00m:\n\u001b[1;32m-> 1874\u001b[0m         \u001b[38;5;28;01mraise\u001b[39;00m \u001b[38;5;167;01mImportError\u001b[39;00m(\n\u001b[0;32m   1875\u001b[0m             \u001b[38;5;124m\"\u001b[39m\u001b[38;5;124mmatplotlib is required for plotting when the \u001b[39m\u001b[38;5;124m\"\u001b[39m\n\u001b[0;32m   1876\u001b[0m             \u001b[38;5;124m'\u001b[39m\u001b[38;5;124mdefault backend \u001b[39m\u001b[38;5;124m\"\u001b[39m\u001b[38;5;124mmatplotlib\u001b[39m\u001b[38;5;124m\"\u001b[39m\u001b[38;5;124m is selected.\u001b[39m\u001b[38;5;124m'\u001b[39m\n\u001b[0;32m   1877\u001b[0m         ) \u001b[38;5;28;01mfrom\u001b[39;00m\u001b[38;5;250m \u001b[39m\u001b[38;5;28;01mNone\u001b[39;00m\n\u001b[0;32m   1878\u001b[0m     \u001b[38;5;28;01mreturn\u001b[39;00m module\n\u001b[0;32m   1880\u001b[0m found_backend \u001b[38;5;241m=\u001b[39m \u001b[38;5;28;01mFalse\u001b[39;00m\n",
      "\u001b[1;31mImportError\u001b[0m: matplotlib is required for plotting when the default backend \"matplotlib\" is selected."
     ]
    }
   ],
   "source": [
    "#Customise to make it more understandable\n",
    "df.plot(kind = 'scatter', x = 'Duration', y = 'Calories')"
   ]
  },
  {
   "cell_type": "code",
   "execution_count": 15,
   "metadata": {
    "executionInfo": {
     "elapsed": 3,
     "status": "aborted",
     "timestamp": 1739858950607,
     "user": {
      "displayName": "Anika Priodorshinee Mrittika",
      "userId": "18201477252200877005"
     },
     "user_tz": -360
    },
    "id": "3_XC03GqXN0v"
   },
   "outputs": [
    {
     "ename": "ImportError",
     "evalue": "matplotlib is required for plotting when the default backend \"matplotlib\" is selected.",
     "output_type": "error",
     "traceback": [
      "\u001b[1;31m---------------------------------------------------------------------------\u001b[0m",
      "\u001b[1;31mImportError\u001b[0m                               Traceback (most recent call last)",
      "Cell \u001b[1;32mIn[15], line 1\u001b[0m\n\u001b[1;32m----> 1\u001b[0m \u001b[43mdf\u001b[49m\u001b[38;5;241;43m.\u001b[39;49m\u001b[43mplot\u001b[49m\u001b[43m(\u001b[49m\u001b[43mkind\u001b[49m\u001b[43m \u001b[49m\u001b[38;5;241;43m=\u001b[39;49m\u001b[43m \u001b[49m\u001b[38;5;124;43m'\u001b[39;49m\u001b[38;5;124;43mscatter\u001b[39;49m\u001b[38;5;124;43m'\u001b[39;49m\u001b[43m,\u001b[49m\u001b[43m \u001b[49m\u001b[43mx\u001b[49m\u001b[43m \u001b[49m\u001b[38;5;241;43m=\u001b[39;49m\u001b[43m \u001b[49m\u001b[38;5;124;43m'\u001b[39;49m\u001b[38;5;124;43mDuration\u001b[39;49m\u001b[38;5;124;43m'\u001b[39;49m\u001b[43m,\u001b[49m\u001b[43m \u001b[49m\u001b[43my\u001b[49m\u001b[43m \u001b[49m\u001b[38;5;241;43m=\u001b[39;49m\u001b[43m \u001b[49m\u001b[38;5;124;43m'\u001b[39;49m\u001b[38;5;124;43mMaxpulse\u001b[39;49m\u001b[38;5;124;43m'\u001b[39;49m\u001b[43m)\u001b[49m\n",
      "File \u001b[1;32m~\\AppData\\Local\\Packages\\PythonSoftwareFoundation.Python.3.11_qbz5n2kfra8p0\\LocalCache\\local-packages\\Python311\\site-packages\\pandas\\plotting\\_core.py:947\u001b[0m, in \u001b[0;36mPlotAccessor.__call__\u001b[1;34m(self, *args, **kwargs)\u001b[0m\n\u001b[0;32m    946\u001b[0m \u001b[38;5;28;01mdef\u001b[39;00m\u001b[38;5;250m \u001b[39m\u001b[38;5;21m__call__\u001b[39m(\u001b[38;5;28mself\u001b[39m, \u001b[38;5;241m*\u001b[39margs, \u001b[38;5;241m*\u001b[39m\u001b[38;5;241m*\u001b[39mkwargs):\n\u001b[1;32m--> 947\u001b[0m     plot_backend \u001b[38;5;241m=\u001b[39m \u001b[43m_get_plot_backend\u001b[49m\u001b[43m(\u001b[49m\u001b[43mkwargs\u001b[49m\u001b[38;5;241;43m.\u001b[39;49m\u001b[43mpop\u001b[49m\u001b[43m(\u001b[49m\u001b[38;5;124;43m\"\u001b[39;49m\u001b[38;5;124;43mbackend\u001b[39;49m\u001b[38;5;124;43m\"\u001b[39;49m\u001b[43m,\u001b[49m\u001b[43m \u001b[49m\u001b[38;5;28;43;01mNone\u001b[39;49;00m\u001b[43m)\u001b[49m\u001b[43m)\u001b[49m\n\u001b[0;32m    949\u001b[0m     x, y, kind, kwargs \u001b[38;5;241m=\u001b[39m \u001b[38;5;28mself\u001b[39m\u001b[38;5;241m.\u001b[39m_get_call_args(\n\u001b[0;32m    950\u001b[0m         plot_backend\u001b[38;5;241m.\u001b[39m\u001b[38;5;18m__name__\u001b[39m, \u001b[38;5;28mself\u001b[39m\u001b[38;5;241m.\u001b[39m_parent, args, kwargs\n\u001b[0;32m    951\u001b[0m     )\n\u001b[0;32m    953\u001b[0m     kind \u001b[38;5;241m=\u001b[39m \u001b[38;5;28mself\u001b[39m\u001b[38;5;241m.\u001b[39m_kind_aliases\u001b[38;5;241m.\u001b[39mget(kind, kind)\n",
      "File \u001b[1;32m~\\AppData\\Local\\Packages\\PythonSoftwareFoundation.Python.3.11_qbz5n2kfra8p0\\LocalCache\\local-packages\\Python311\\site-packages\\pandas\\plotting\\_core.py:1944\u001b[0m, in \u001b[0;36m_get_plot_backend\u001b[1;34m(backend)\u001b[0m\n\u001b[0;32m   1941\u001b[0m \u001b[38;5;28;01mif\u001b[39;00m backend_str \u001b[38;5;129;01min\u001b[39;00m _backends:\n\u001b[0;32m   1942\u001b[0m     \u001b[38;5;28;01mreturn\u001b[39;00m _backends[backend_str]\n\u001b[1;32m-> 1944\u001b[0m module \u001b[38;5;241m=\u001b[39m \u001b[43m_load_backend\u001b[49m\u001b[43m(\u001b[49m\u001b[43mbackend_str\u001b[49m\u001b[43m)\u001b[49m\n\u001b[0;32m   1945\u001b[0m _backends[backend_str] \u001b[38;5;241m=\u001b[39m module\n\u001b[0;32m   1946\u001b[0m \u001b[38;5;28;01mreturn\u001b[39;00m module\n",
      "File \u001b[1;32m~\\AppData\\Local\\Packages\\PythonSoftwareFoundation.Python.3.11_qbz5n2kfra8p0\\LocalCache\\local-packages\\Python311\\site-packages\\pandas\\plotting\\_core.py:1874\u001b[0m, in \u001b[0;36m_load_backend\u001b[1;34m(backend)\u001b[0m\n\u001b[0;32m   1872\u001b[0m         module \u001b[38;5;241m=\u001b[39m importlib\u001b[38;5;241m.\u001b[39mimport_module(\u001b[38;5;124m\"\u001b[39m\u001b[38;5;124mpandas.plotting._matplotlib\u001b[39m\u001b[38;5;124m\"\u001b[39m)\n\u001b[0;32m   1873\u001b[0m     \u001b[38;5;28;01mexcept\u001b[39;00m \u001b[38;5;167;01mImportError\u001b[39;00m:\n\u001b[1;32m-> 1874\u001b[0m         \u001b[38;5;28;01mraise\u001b[39;00m \u001b[38;5;167;01mImportError\u001b[39;00m(\n\u001b[0;32m   1875\u001b[0m             \u001b[38;5;124m\"\u001b[39m\u001b[38;5;124mmatplotlib is required for plotting when the \u001b[39m\u001b[38;5;124m\"\u001b[39m\n\u001b[0;32m   1876\u001b[0m             \u001b[38;5;124m'\u001b[39m\u001b[38;5;124mdefault backend \u001b[39m\u001b[38;5;124m\"\u001b[39m\u001b[38;5;124mmatplotlib\u001b[39m\u001b[38;5;124m\"\u001b[39m\u001b[38;5;124m is selected.\u001b[39m\u001b[38;5;124m'\u001b[39m\n\u001b[0;32m   1877\u001b[0m         ) \u001b[38;5;28;01mfrom\u001b[39;00m\u001b[38;5;250m \u001b[39m\u001b[38;5;28;01mNone\u001b[39;00m\n\u001b[0;32m   1878\u001b[0m     \u001b[38;5;28;01mreturn\u001b[39;00m module\n\u001b[0;32m   1880\u001b[0m found_backend \u001b[38;5;241m=\u001b[39m \u001b[38;5;28;01mFalse\u001b[39;00m\n",
      "\u001b[1;31mImportError\u001b[0m: matplotlib is required for plotting when the default backend \"matplotlib\" is selected."
     ]
    }
   ],
   "source": [
    "df.plot(kind = 'scatter', x = 'Duration', y = 'Maxpulse')"
   ]
  },
  {
   "cell_type": "code",
   "execution_count": null,
   "metadata": {
    "executionInfo": {
     "elapsed": 3,
     "status": "aborted",
     "timestamp": 1739858950607,
     "user": {
      "displayName": "Anika Priodorshinee Mrittika",
      "userId": "18201477252200877005"
     },
     "user_tz": -360
    },
    "id": "D06dQ4QhQnaD"
   },
   "outputs": [],
   "source": [
    "df[\"Duration\"].plot(kind = 'hist')"
   ]
  }
 ],
 "metadata": {
  "colab": {
   "provenance": []
  },
  "kernelspec": {
   "display_name": "Python 3",
   "name": "python3"
  },
  "language_info": {
   "codemirror_mode": {
    "name": "ipython",
    "version": 3
   },
   "file_extension": ".py",
   "mimetype": "text/x-python",
   "name": "python",
   "nbconvert_exporter": "python",
   "pygments_lexer": "ipython3",
   "version": "3.11.9"
  }
 },
 "nbformat": 4,
 "nbformat_minor": 0
}
